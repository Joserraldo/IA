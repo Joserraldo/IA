{
  "cells": [
    {
      "cell_type": "markdown",
      "id": "a44ec196",
      "metadata": {
        "id": "a44ec196"
      },
      "source": [
        "#  Taller Evaluativo: Preprocesamiento y Análisis de Datos de Vivienda\n",
        "\n",
        "Este cuaderno constituye una **evaluación práctica** donde deberás aplicar técnicas de:\n",
        "\n",
        "- Limpieza de datos  \n",
        "- Análisis exploratorio (EDA)  \n",
        "- Imputación de valores nulos  \n",
        "- Tratamiento de valores atípicos  \n",
        "- Codificación de variables categóricas  \n",
        "- Escalado y reducción de características  \n",
        "- División en entrenamiento y prueba  \n",
        "\n",
        " **Instrucciones:**  \n",
        "1. Lee con atención cada enunciado (celdas con `#` o en texto explicativo).  \n",
        "2. Desarrolla el código solicitado en la celda correspondiente.  \n",
        "3. Después de cada celda de código, redacta una **conclusión o inferencia** en la celda de texto que sigue.  \n"
      ]
    },
    {
      "cell_type": "markdown",
      "id": "da91feb3",
      "metadata": {
        "id": "da91feb3",
        "papermill": {
          "duration": 0.040171,
          "end_time": "2022-04-21T13:47:12.778133",
          "exception": false,
          "start_time": "2022-04-21T13:47:12.737962",
          "status": "completed"
        },
        "tags": []
      },
      "source": [
        "# <center> ★ Machine Learning Project - Predicción del precio de la vivienda  ★"
      ]
    },
    {
      "cell_type": "markdown",
      "id": "bc67e533",
      "metadata": {
        "id": "bc67e533",
        "papermill": {
          "duration": 0.040774,
          "end_time": "2022-04-21T13:47:12.859583",
          "exception": false,
          "start_time": "2022-04-21T13:47:12.818809",
          "status": "completed"
        },
        "tags": []
      },
      "source": [
        "#### <center> ***Area: Sector Inmobiliario***"
      ]
    },
    {
      "cell_type": "markdown",
      "id": "491aa351",
      "metadata": {
        "id": "491aa351",
        "papermill": {
          "duration": 0.040251,
          "end_time": "2022-04-21T13:47:12.940319",
          "exception": false,
          "start_time": "2022-04-21T13:47:12.900068",
          "status": "completed"
        },
        "tags": []
      },
      "source": [
        "---"
      ]
    },
    {
      "cell_type": "markdown",
      "id": "7591e739",
      "metadata": {
        "id": "7591e739",
        "papermill": {
          "duration": 0.040129,
          "end_time": "2022-04-21T13:47:13.021464",
          "exception": false,
          "start_time": "2022-04-21T13:47:12.981335",
          "status": "completed"
        },
        "tags": []
      },
      "source": [
        "<center><img src=\"https://raw.githubusercontent.com/Masterx-AI/Project_Housing_Price_Prediction_/main/hs.jpg\" style=\"width: 700px;\"/>"
      ]
    },
    {
      "cell_type": "markdown",
      "id": "d45d924c",
      "metadata": {
        "id": "d45d924c",
        "papermill": {
          "duration": 0.042447,
          "end_time": "2022-04-21T13:47:13.104993",
          "exception": false,
          "start_time": "2022-04-21T13:47:13.062546",
          "status": "completed"
        },
        "tags": []
      },
      "source": [
        "---"
      ]
    },
    {
      "cell_type": "markdown",
      "id": "e5533a88",
      "metadata": {
        "id": "e5533a88",
        "papermill": {
          "duration": 0.040371,
          "end_time": "2022-04-21T13:47:13.189076",
          "exception": false,
          "start_time": "2022-04-21T13:47:13.148705",
          "status": "completed"
        },
        "tags": []
      },
      "source": [
        "## Taller Evaluativo - Preprocesamiento y Preparación de Datos  \n",
        "\n",
        "Este taller es la aplicación integral de lo aprendido en clase sobre análisis y transformación de datos, desde la **limpieza** hasta la **preparación para el modelado**.  \n",
        "\n",
        "El flujo de trabajo incluirá:  \n",
        "- **Análisis exploratorio de datos (EDA)**  \n",
        "- **Limpieza e imputación de valores nulos**  \n",
        "- **Tratamiento de valores atípicos**  \n",
        "- **Codificación de variables categóricas**  \n",
        "- **Creación y selección de características**  \n",
        "- **División del conjunto de datos**  \n",
        "- **Balanceo de clases**  \n",
        "\n",
        "Lenguaje y librerías a utilizar:  \n",
        "Python 3.9+ con **Pandas, NumPy, Seaborn, Matplotlib y Scikit-learn**.  \n",
        "Recomendamos trabajar en **Jupyter Notebook o Google Colab** para facilitar la ejecución y visualización de resultados.  \n",
        "\n",
        "Importante:  \n",
        "- Puedes apoyarte en la **IA de la plataforma** para completar el taller.  \n",
        "- **Cada línea de código debe estar precedida por una celda de texto (Markdown) donde expliques qué acción vas a realizar y por qué**.  \n",
        "\n",
        "---\n",
        "\n",
        "## 1. Cargar y explorar el dataset\n",
        "- Descargar el dataset proporcionado sobre clientes interesados en comprar vivienda.  \n",
        "- Inspeccionar las primeras filas y las dimensiones del DataFrame.  \n",
        "- Cambie los nombres de cada columna por su traducción en español.\n",
        "---\n",
        "\n",
        "## 2. Transformaciones iniciales\n",
        "- Verificar si hay nulos es imputar la mediana en valores, numericos y la moda en categoricos.\n",
        "- Realice el análisis estadistico\n",
        "- Realizar el análisis gráfico de barras de frecuencia\n",
        "- Eliminar las columnas que puede ser colineales usando correlación\n",
        "- Mostrar las primeras filas para verificar las transformaciones.  \n",
        "\n",
        "---\n",
        "\n",
        "## 3. Análisis Exploratorio de Datos (EDA)  \n",
        "- Realizar histogramas con densidad estimada (KDE) para *precio**.  \n",
        "- Identificar patrones, sesgos o valores atípicos.  \n",
        "\n",
        "---\n",
        "\n",
        "## 5. Manejo de valores atípicos (outliers)  \n",
        "- Aplicar el método **IQR (Rango Intercuartílico)** a total_gastos y credito_a_solicitar.  \n",
        "- Calcular límites inferior y superior:  \n",
        "  - Límite inferior = Q1 – 1.5 × IQR  \n",
        "  - Límite superior = Q3 + 1.5 × IQR  \n",
        "- Ajustar valores fuera de rango al límite correspondiente (sin eliminarlos).  \n",
        "\n",
        "---\n",
        "\n",
        "## 6. Codificación de variables categóricas  \n",
        "- Aplicar **One-Hot Encoding** a genero, estado_civil y tiene_credito.  \n",
        "- Eliminar las columnas originales.  \n",
        "- Explicar cómo la codificación ayuda al modelo.  \n",
        "\n",
        "---\n",
        "\n",
        "\n",
        "## 7. División del dataset  \n",
        "- Dividir en entrenamiento (train) y prueba (test) con un 80/20.  \n",
        "- Asegurar que la proporción de clases de compro_vivienda se mantenga en ambas particiones (**stratify**).  \n",
        "\n",
        "---\n",
        "## 8. Normalice train y luego el test\n",
        "\n",
        "- Usar **MinMax**.  \n",
        "- Reconstruir el DataFrame con las más relevantes.  \n",
        "---\n",
        "\n",
        "## 8. Selección de características  \n",
        "- Usar **VarianceThreshold** para eliminar variables con baja varianza.  \n",
        "- Reconstruir el DataFrame con las más relevantes.  \n",
        "\n",
        "\n",
        "\n",
        "---\n",
        "\n",
        "## Entrega  \n",
        "- Guardar el notebook en formato `.ipynb`.  \n",
        "- Subirlo a la plataforma del curso.  \n",
        "\n",
        "---\n",
        "\n",
        "Recuerda: Cada bloque de código tiene sus instrucciones pero después de ejecutar el codigo debe tener un texto que haga un análisis de los resultados más importantes de la celda previa, explicando **Por qué y que analisis y/o acción debe realizarse para obetener los datos limpios para generar la vista minable**.  \n",
        "\n",
        "\n",
        "\n",
        "### Referencia:\n",
        "Harrison, D. and Rubinfeld, D.L. (1978) Hedonic prices and the demand for clean air. J. Environ. Economics and Management 5, 81–102.\n"
      ]
    },
    {
      "cell_type": "markdown",
      "id": "c724776a",
      "metadata": {
        "id": "c724776a",
        "papermill": {
          "duration": 0.040936,
          "end_time": "2022-04-21T13:47:13.270834",
          "exception": false,
          "start_time": "2022-04-21T13:47:13.229898",
          "status": "completed"
        },
        "tags": []
      },
      "source": [
        "---"
      ]
    },
    {
      "cell_type": "markdown",
      "id": "4e5ae921",
      "metadata": {
        "id": "4e5ae921",
        "papermill": {
          "duration": 0.042532,
          "end_time": "2022-04-21T13:47:13.637341",
          "exception": false,
          "start_time": "2022-04-21T13:47:13.594809",
          "status": "completed"
        },
        "tags": []
      },
      "source": [
        "# <center>1. Data Exploration"
      ]
    },
    {
      "cell_type": "markdown",
      "id": "542397c0",
      "metadata": {
        "id": "542397c0"
      },
      "source": [
        "### Tarea: Importing the basic librarires"
      ]
    },
    {
      "cell_type": "code",
      "execution_count": 1,
      "id": "84ea92ea",
      "metadata": {
        "id": "84ea92ea"
      },
      "outputs": [],
      "source": [
        "import pandas as pd\n",
        "import numpy as np\n",
        "import seaborn as sns\n",
        "import matplotlib.pyplot as plt\n",
        "from sklearn.model_selection import train_test_split\n",
        "from sklearn.preprocessing import StandardScaler, OrdinalEncoder, MinMaxScaler\n",
        "from sklearn.feature_selection import VarianceThreshold\n",
        "import joblib\n",
        "#se importan las librerias basicas para usar los modelos"
      ]
    },
    {
      "cell_type": "markdown",
      "id": "245f5956",
      "metadata": {
        "id": "245f5956"
      },
      "source": [
        "**Justificación técnica:** se importal librerias basicas para usar los modelos"
      ]
    },
    {
      "cell_type": "markdown",
      "id": "15cd440c",
      "metadata": {
        "id": "15cd440c"
      },
      "source": [
        "###  Tarea: Cargar el dataset y mostra las primeras muestras"
      ]
    },
    {
      "cell_type": "code",
      "execution_count": 2,
      "id": "d931b442",
      "metadata": {
        "id": "d931b442",
        "colab": {
          "base_uri": "https://localhost:8080/",
          "height": 206
        },
        "outputId": "68947429-0395-4b48-8213-b0dab5f7e49f"
      },
      "outputs": [
        {
          "output_type": "display_data",
          "data": {
            "text/plain": [
              "      price  area  bedrooms  bathrooms  stories mainroad guestroom basement  \\\n",
              "0  13300000  7420       4.0        2.0      3.0      yes        no       no   \n",
              "1  12250000  8960       NaN        4.0      4.0      yes        no       no   \n",
              "2  12250000  9960       3.0        2.0      2.0      yes        no      yes   \n",
              "3  12215000  7500       4.0        2.0      2.0      yes        no      yes   \n",
              "4  11410000  7420       4.0        1.0      2.0      yes       yes      yes   \n",
              "\n",
              "  hotwaterheating airconditioning  parking prefarea furnishingstatus  \n",
              "0              no             yes        2      yes        furnished  \n",
              "1              no             yes        3       no        furnished  \n",
              "2              no              no        2      yes   semi-furnished  \n",
              "3              no             yes        3      yes        furnished  \n",
              "4              no             yes        2       no        furnished  "
            ],
            "text/html": [
              "\n",
              "  <div id=\"df-dad710cb-0173-466b-b3b1-96dcffe1a95a\" class=\"colab-df-container\">\n",
              "    <div>\n",
              "<style scoped>\n",
              "    .dataframe tbody tr th:only-of-type {\n",
              "        vertical-align: middle;\n",
              "    }\n",
              "\n",
              "    .dataframe tbody tr th {\n",
              "        vertical-align: top;\n",
              "    }\n",
              "\n",
              "    .dataframe thead th {\n",
              "        text-align: right;\n",
              "    }\n",
              "</style>\n",
              "<table border=\"1\" class=\"dataframe\">\n",
              "  <thead>\n",
              "    <tr style=\"text-align: right;\">\n",
              "      <th></th>\n",
              "      <th>price</th>\n",
              "      <th>area</th>\n",
              "      <th>bedrooms</th>\n",
              "      <th>bathrooms</th>\n",
              "      <th>stories</th>\n",
              "      <th>mainroad</th>\n",
              "      <th>guestroom</th>\n",
              "      <th>basement</th>\n",
              "      <th>hotwaterheating</th>\n",
              "      <th>airconditioning</th>\n",
              "      <th>parking</th>\n",
              "      <th>prefarea</th>\n",
              "      <th>furnishingstatus</th>\n",
              "    </tr>\n",
              "  </thead>\n",
              "  <tbody>\n",
              "    <tr>\n",
              "      <th>0</th>\n",
              "      <td>13300000</td>\n",
              "      <td>7420</td>\n",
              "      <td>4.0</td>\n",
              "      <td>2.0</td>\n",
              "      <td>3.0</td>\n",
              "      <td>yes</td>\n",
              "      <td>no</td>\n",
              "      <td>no</td>\n",
              "      <td>no</td>\n",
              "      <td>yes</td>\n",
              "      <td>2</td>\n",
              "      <td>yes</td>\n",
              "      <td>furnished</td>\n",
              "    </tr>\n",
              "    <tr>\n",
              "      <th>1</th>\n",
              "      <td>12250000</td>\n",
              "      <td>8960</td>\n",
              "      <td>NaN</td>\n",
              "      <td>4.0</td>\n",
              "      <td>4.0</td>\n",
              "      <td>yes</td>\n",
              "      <td>no</td>\n",
              "      <td>no</td>\n",
              "      <td>no</td>\n",
              "      <td>yes</td>\n",
              "      <td>3</td>\n",
              "      <td>no</td>\n",
              "      <td>furnished</td>\n",
              "    </tr>\n",
              "    <tr>\n",
              "      <th>2</th>\n",
              "      <td>12250000</td>\n",
              "      <td>9960</td>\n",
              "      <td>3.0</td>\n",
              "      <td>2.0</td>\n",
              "      <td>2.0</td>\n",
              "      <td>yes</td>\n",
              "      <td>no</td>\n",
              "      <td>yes</td>\n",
              "      <td>no</td>\n",
              "      <td>no</td>\n",
              "      <td>2</td>\n",
              "      <td>yes</td>\n",
              "      <td>semi-furnished</td>\n",
              "    </tr>\n",
              "    <tr>\n",
              "      <th>3</th>\n",
              "      <td>12215000</td>\n",
              "      <td>7500</td>\n",
              "      <td>4.0</td>\n",
              "      <td>2.0</td>\n",
              "      <td>2.0</td>\n",
              "      <td>yes</td>\n",
              "      <td>no</td>\n",
              "      <td>yes</td>\n",
              "      <td>no</td>\n",
              "      <td>yes</td>\n",
              "      <td>3</td>\n",
              "      <td>yes</td>\n",
              "      <td>furnished</td>\n",
              "    </tr>\n",
              "    <tr>\n",
              "      <th>4</th>\n",
              "      <td>11410000</td>\n",
              "      <td>7420</td>\n",
              "      <td>4.0</td>\n",
              "      <td>1.0</td>\n",
              "      <td>2.0</td>\n",
              "      <td>yes</td>\n",
              "      <td>yes</td>\n",
              "      <td>yes</td>\n",
              "      <td>no</td>\n",
              "      <td>yes</td>\n",
              "      <td>2</td>\n",
              "      <td>no</td>\n",
              "      <td>furnished</td>\n",
              "    </tr>\n",
              "  </tbody>\n",
              "</table>\n",
              "</div>\n",
              "    <div class=\"colab-df-buttons\">\n",
              "\n",
              "  <div class=\"colab-df-container\">\n",
              "    <button class=\"colab-df-convert\" onclick=\"convertToInteractive('df-dad710cb-0173-466b-b3b1-96dcffe1a95a')\"\n",
              "            title=\"Convert this dataframe to an interactive table.\"\n",
              "            style=\"display:none;\">\n",
              "\n",
              "  <svg xmlns=\"http://www.w3.org/2000/svg\" height=\"24px\" viewBox=\"0 -960 960 960\">\n",
              "    <path d=\"M120-120v-720h720v720H120Zm60-500h600v-160H180v160Zm220 220h160v-160H400v160Zm0 220h160v-160H400v160ZM180-400h160v-160H180v160Zm440 0h160v-160H620v160ZM180-180h160v-160H180v160Zm440 0h160v-160H620v160Z\"/>\n",
              "  </svg>\n",
              "    </button>\n",
              "\n",
              "  <style>\n",
              "    .colab-df-container {\n",
              "      display:flex;\n",
              "      gap: 12px;\n",
              "    }\n",
              "\n",
              "    .colab-df-convert {\n",
              "      background-color: #E8F0FE;\n",
              "      border: none;\n",
              "      border-radius: 50%;\n",
              "      cursor: pointer;\n",
              "      display: none;\n",
              "      fill: #1967D2;\n",
              "      height: 32px;\n",
              "      padding: 0 0 0 0;\n",
              "      width: 32px;\n",
              "    }\n",
              "\n",
              "    .colab-df-convert:hover {\n",
              "      background-color: #E2EBFA;\n",
              "      box-shadow: 0px 1px 2px rgba(60, 64, 67, 0.3), 0px 1px 3px 1px rgba(60, 64, 67, 0.15);\n",
              "      fill: #174EA6;\n",
              "    }\n",
              "\n",
              "    .colab-df-buttons div {\n",
              "      margin-bottom: 4px;\n",
              "    }\n",
              "\n",
              "    [theme=dark] .colab-df-convert {\n",
              "      background-color: #3B4455;\n",
              "      fill: #D2E3FC;\n",
              "    }\n",
              "\n",
              "    [theme=dark] .colab-df-convert:hover {\n",
              "      background-color: #434B5C;\n",
              "      box-shadow: 0px 1px 3px 1px rgba(0, 0, 0, 0.15);\n",
              "      filter: drop-shadow(0px 1px 2px rgba(0, 0, 0, 0.3));\n",
              "      fill: #FFFFFF;\n",
              "    }\n",
              "  </style>\n",
              "\n",
              "    <script>\n",
              "      const buttonEl =\n",
              "        document.querySelector('#df-dad710cb-0173-466b-b3b1-96dcffe1a95a button.colab-df-convert');\n",
              "      buttonEl.style.display =\n",
              "        google.colab.kernel.accessAllowed ? 'block' : 'none';\n",
              "\n",
              "      async function convertToInteractive(key) {\n",
              "        const element = document.querySelector('#df-dad710cb-0173-466b-b3b1-96dcffe1a95a');\n",
              "        const dataTable =\n",
              "          await google.colab.kernel.invokeFunction('convertToInteractive',\n",
              "                                                    [key], {});\n",
              "        if (!dataTable) return;\n",
              "\n",
              "        const docLinkHtml = 'Like what you see? Visit the ' +\n",
              "          '<a target=\"_blank\" href=https://colab.research.google.com/notebooks/data_table.ipynb>data table notebook</a>'\n",
              "          + ' to learn more about interactive tables.';\n",
              "        element.innerHTML = '';\n",
              "        dataTable['output_type'] = 'display_data';\n",
              "        await google.colab.output.renderOutput(dataTable, element);\n",
              "        const docLink = document.createElement('div');\n",
              "        docLink.innerHTML = docLinkHtml;\n",
              "        element.appendChild(docLink);\n",
              "      }\n",
              "    </script>\n",
              "  </div>\n",
              "\n",
              "\n",
              "    <div id=\"df-331cfb0a-6228-402b-809e-e1a99276de65\">\n",
              "      <button class=\"colab-df-quickchart\" onclick=\"quickchart('df-331cfb0a-6228-402b-809e-e1a99276de65')\"\n",
              "                title=\"Suggest charts\"\n",
              "                style=\"display:none;\">\n",
              "\n",
              "<svg xmlns=\"http://www.w3.org/2000/svg\" height=\"24px\"viewBox=\"0 0 24 24\"\n",
              "     width=\"24px\">\n",
              "    <g>\n",
              "        <path d=\"M19 3H5c-1.1 0-2 .9-2 2v14c0 1.1.9 2 2 2h14c1.1 0 2-.9 2-2V5c0-1.1-.9-2-2-2zM9 17H7v-7h2v7zm4 0h-2V7h2v10zm4 0h-2v-4h2v4z\"/>\n",
              "    </g>\n",
              "</svg>\n",
              "      </button>\n",
              "\n",
              "<style>\n",
              "  .colab-df-quickchart {\n",
              "      --bg-color: #E8F0FE;\n",
              "      --fill-color: #1967D2;\n",
              "      --hover-bg-color: #E2EBFA;\n",
              "      --hover-fill-color: #174EA6;\n",
              "      --disabled-fill-color: #AAA;\n",
              "      --disabled-bg-color: #DDD;\n",
              "  }\n",
              "\n",
              "  [theme=dark] .colab-df-quickchart {\n",
              "      --bg-color: #3B4455;\n",
              "      --fill-color: #D2E3FC;\n",
              "      --hover-bg-color: #434B5C;\n",
              "      --hover-fill-color: #FFFFFF;\n",
              "      --disabled-bg-color: #3B4455;\n",
              "      --disabled-fill-color: #666;\n",
              "  }\n",
              "\n",
              "  .colab-df-quickchart {\n",
              "    background-color: var(--bg-color);\n",
              "    border: none;\n",
              "    border-radius: 50%;\n",
              "    cursor: pointer;\n",
              "    display: none;\n",
              "    fill: var(--fill-color);\n",
              "    height: 32px;\n",
              "    padding: 0;\n",
              "    width: 32px;\n",
              "  }\n",
              "\n",
              "  .colab-df-quickchart:hover {\n",
              "    background-color: var(--hover-bg-color);\n",
              "    box-shadow: 0 1px 2px rgba(60, 64, 67, 0.3), 0 1px 3px 1px rgba(60, 64, 67, 0.15);\n",
              "    fill: var(--button-hover-fill-color);\n",
              "  }\n",
              "\n",
              "  .colab-df-quickchart-complete:disabled,\n",
              "  .colab-df-quickchart-complete:disabled:hover {\n",
              "    background-color: var(--disabled-bg-color);\n",
              "    fill: var(--disabled-fill-color);\n",
              "    box-shadow: none;\n",
              "  }\n",
              "\n",
              "  .colab-df-spinner {\n",
              "    border: 2px solid var(--fill-color);\n",
              "    border-color: transparent;\n",
              "    border-bottom-color: var(--fill-color);\n",
              "    animation:\n",
              "      spin 1s steps(1) infinite;\n",
              "  }\n",
              "\n",
              "  @keyframes spin {\n",
              "    0% {\n",
              "      border-color: transparent;\n",
              "      border-bottom-color: var(--fill-color);\n",
              "      border-left-color: var(--fill-color);\n",
              "    }\n",
              "    20% {\n",
              "      border-color: transparent;\n",
              "      border-left-color: var(--fill-color);\n",
              "      border-top-color: var(--fill-color);\n",
              "    }\n",
              "    30% {\n",
              "      border-color: transparent;\n",
              "      border-left-color: var(--fill-color);\n",
              "      border-top-color: var(--fill-color);\n",
              "      border-right-color: var(--fill-color);\n",
              "    }\n",
              "    40% {\n",
              "      border-color: transparent;\n",
              "      border-right-color: var(--fill-color);\n",
              "      border-top-color: var(--fill-color);\n",
              "    }\n",
              "    60% {\n",
              "      border-color: transparent;\n",
              "      border-right-color: var(--fill-color);\n",
              "    }\n",
              "    80% {\n",
              "      border-color: transparent;\n",
              "      border-right-color: var(--fill-color);\n",
              "      border-bottom-color: var(--fill-color);\n",
              "    }\n",
              "    90% {\n",
              "      border-color: transparent;\n",
              "      border-bottom-color: var(--fill-color);\n",
              "    }\n",
              "  }\n",
              "</style>\n",
              "\n",
              "      <script>\n",
              "        async function quickchart(key) {\n",
              "          const quickchartButtonEl =\n",
              "            document.querySelector('#' + key + ' button');\n",
              "          quickchartButtonEl.disabled = true;  // To prevent multiple clicks.\n",
              "          quickchartButtonEl.classList.add('colab-df-spinner');\n",
              "          try {\n",
              "            const charts = await google.colab.kernel.invokeFunction(\n",
              "                'suggestCharts', [key], {});\n",
              "          } catch (error) {\n",
              "            console.error('Error during call to suggestCharts:', error);\n",
              "          }\n",
              "          quickchartButtonEl.classList.remove('colab-df-spinner');\n",
              "          quickchartButtonEl.classList.add('colab-df-quickchart-complete');\n",
              "        }\n",
              "        (() => {\n",
              "          let quickchartButtonEl =\n",
              "            document.querySelector('#df-331cfb0a-6228-402b-809e-e1a99276de65 button');\n",
              "          quickchartButtonEl.style.display =\n",
              "            google.colab.kernel.accessAllowed ? 'block' : 'none';\n",
              "        })();\n",
              "      </script>\n",
              "    </div>\n",
              "\n",
              "    </div>\n",
              "  </div>\n"
            ],
            "application/vnd.google.colaboratory.intrinsic+json": {
              "type": "dataframe",
              "summary": "{\n  \"name\": \"display(df\",\n  \"rows\": 5,\n  \"fields\": [\n    {\n      \"column\": \"price\",\n      \"properties\": {\n        \"dtype\": \"number\",\n        \"std\": 671416,\n        \"min\": 11410000,\n        \"max\": 13300000,\n        \"num_unique_values\": 4,\n        \"samples\": [\n          12250000,\n          11410000,\n          13300000\n        ],\n        \"semantic_type\": \"\",\n        \"description\": \"\"\n      }\n    },\n    {\n      \"column\": \"area\",\n      \"properties\": {\n        \"dtype\": \"number\",\n        \"std\": 1158,\n        \"min\": 7420,\n        \"max\": 9960,\n        \"num_unique_values\": 4,\n        \"samples\": [\n          8960,\n          7500,\n          7420\n        ],\n        \"semantic_type\": \"\",\n        \"description\": \"\"\n      }\n    },\n    {\n      \"column\": \"bedrooms\",\n      \"properties\": {\n        \"dtype\": \"number\",\n        \"std\": 0.5,\n        \"min\": 3.0,\n        \"max\": 4.0,\n        \"num_unique_values\": 2,\n        \"samples\": [\n          3.0,\n          4.0\n        ],\n        \"semantic_type\": \"\",\n        \"description\": \"\"\n      }\n    },\n    {\n      \"column\": \"bathrooms\",\n      \"properties\": {\n        \"dtype\": \"number\",\n        \"std\": 1.0954451150103321,\n        \"min\": 1.0,\n        \"max\": 4.0,\n        \"num_unique_values\": 3,\n        \"samples\": [\n          2.0,\n          4.0\n        ],\n        \"semantic_type\": \"\",\n        \"description\": \"\"\n      }\n    },\n    {\n      \"column\": \"stories\",\n      \"properties\": {\n        \"dtype\": \"number\",\n        \"std\": 0.8944271909999159,\n        \"min\": 2.0,\n        \"max\": 4.0,\n        \"num_unique_values\": 3,\n        \"samples\": [\n          3.0,\n          4.0\n        ],\n        \"semantic_type\": \"\",\n        \"description\": \"\"\n      }\n    },\n    {\n      \"column\": \"mainroad\",\n      \"properties\": {\n        \"dtype\": \"category\",\n        \"num_unique_values\": 1,\n        \"samples\": [\n          \"yes\"\n        ],\n        \"semantic_type\": \"\",\n        \"description\": \"\"\n      }\n    },\n    {\n      \"column\": \"guestroom\",\n      \"properties\": {\n        \"dtype\": \"category\",\n        \"num_unique_values\": 2,\n        \"samples\": [\n          \"yes\"\n        ],\n        \"semantic_type\": \"\",\n        \"description\": \"\"\n      }\n    },\n    {\n      \"column\": \"basement\",\n      \"properties\": {\n        \"dtype\": \"category\",\n        \"num_unique_values\": 2,\n        \"samples\": [\n          \"yes\"\n        ],\n        \"semantic_type\": \"\",\n        \"description\": \"\"\n      }\n    },\n    {\n      \"column\": \"hotwaterheating\",\n      \"properties\": {\n        \"dtype\": \"category\",\n        \"num_unique_values\": 1,\n        \"samples\": [\n          \"no\"\n        ],\n        \"semantic_type\": \"\",\n        \"description\": \"\"\n      }\n    },\n    {\n      \"column\": \"airconditioning\",\n      \"properties\": {\n        \"dtype\": \"category\",\n        \"num_unique_values\": 2,\n        \"samples\": [\n          \"no\"\n        ],\n        \"semantic_type\": \"\",\n        \"description\": \"\"\n      }\n    },\n    {\n      \"column\": \"parking\",\n      \"properties\": {\n        \"dtype\": \"number\",\n        \"std\": 0,\n        \"min\": 2,\n        \"max\": 3,\n        \"num_unique_values\": 2,\n        \"samples\": [\n          3\n        ],\n        \"semantic_type\": \"\",\n        \"description\": \"\"\n      }\n    },\n    {\n      \"column\": \"prefarea\",\n      \"properties\": {\n        \"dtype\": \"category\",\n        \"num_unique_values\": 2,\n        \"samples\": [\n          \"no\"\n        ],\n        \"semantic_type\": \"\",\n        \"description\": \"\"\n      }\n    },\n    {\n      \"column\": \"furnishingstatus\",\n      \"properties\": {\n        \"dtype\": \"category\",\n        \"num_unique_values\": 2,\n        \"samples\": [\n          \"semi-furnished\"\n        ],\n        \"semantic_type\": \"\",\n        \"description\": \"\"\n      }\n    }\n  ]\n}"
            }
          },
          "metadata": {}
        }
      ],
      "source": [
        "# traemos el dataset de github con pd pandas\n",
        "df = pd.read_csv('https://raw.githubusercontent.com/adiacla/vivienda/refs/heads/main/Housing.csv')\n",
        "\n",
        "# mostramos los primero con el comando head\n",
        "display(df.head())"
      ]
    },
    {
      "cell_type": "markdown",
      "id": "6a0db75d",
      "metadata": {
        "id": "6a0db75d"
      },
      "source": [
        "**Justificación técnica:** traemos el dataset y mostramos el head ue son los primeros datos."
      ]
    },
    {
      "cell_type": "markdown",
      "id": "7b813603",
      "metadata": {
        "id": "7b813603"
      },
      "source": [
        "###Tarea: Liste las columnas"
      ]
    },
    {
      "cell_type": "code",
      "execution_count": 4,
      "id": "93e19b3f",
      "metadata": {
        "id": "93e19b3f",
        "colab": {
          "base_uri": "https://localhost:8080/",
          "height": 86
        },
        "outputId": "69ddb465-1f12-4569-f88b-64cc6e3f41d1"
      },
      "outputs": [
        {
          "output_type": "display_data",
          "data": {
            "text/plain": [
              "Index(['price', 'area', 'bedrooms', 'bathrooms', 'stories', 'mainroad',\n",
              "       'guestroom', 'basement', 'hotwaterheating', 'airconditioning',\n",
              "       'parking', 'prefarea', 'furnishingstatus'],\n",
              "      dtype='object')"
            ]
          },
          "metadata": {}
        }
      ],
      "source": [
        "# visualizamos los nombres de las columnas o mejor dicho las features\n",
        "display(df.columns)"
      ]
    },
    {
      "cell_type": "markdown",
      "id": "3d21b4a5",
      "metadata": {
        "id": "3d21b4a5"
      },
      "source": [
        " **Justificación técnica:** Vemos los nombres de las features."
      ]
    },
    {
      "cell_type": "markdown",
      "id": "c3519c83",
      "metadata": {
        "id": "c3519c83"
      },
      "source": [
        "### Tarea: Traducción de nombres de columnas al español\n",
        "- Renombrar las columnas en el DataFrame Verificar los nuevos nombres"
      ]
    },
    {
      "cell_type": "code",
      "execution_count": 5,
      "id": "277b1c2b",
      "metadata": {
        "id": "277b1c2b",
        "colab": {
          "base_uri": "https://localhost:8080/",
          "height": 86
        },
        "outputId": "9521d0bf-7afe-46ca-b690-e374ff507240"
      },
      "outputs": [
        {
          "output_type": "display_data",
          "data": {
            "text/plain": [
              "Index(['precio', 'area', 'habitaciones', 'banos', 'pisos', 'calle_principal',\n",
              "       'cuarto_invitados', 'sotano', 'calefaccion_agua', 'aire_acondicionado',\n",
              "       'estacionamiento', 'area_preferida', 'estado_amueblado'],\n",
              "      dtype='object')"
            ]
          },
          "metadata": {}
        }
      ],
      "source": [
        "# Creamos un diccionario para cambiar el nombre de las columnas, pasamos de ingles a español\n",
        "column_translation = {\n",
        "    'price': 'precio',\n",
        "    'area': 'area',\n",
        "    'bedrooms': 'habitaciones',\n",
        "    'bathrooms': 'banos',\n",
        "    'stories': 'pisos',\n",
        "    'mainroad': 'calle_principal',\n",
        "    'guestroom': 'cuarto_invitados',\n",
        "    'basement': 'sotano',\n",
        "    'hotwaterheating': 'calefaccion_agua',\n",
        "    'airconditioning': 'aire_acondicionado',\n",
        "    'parking': 'estacionamiento',\n",
        "    'prefarea': 'area_preferida',\n",
        "    'furnishingstatus': 'estado_amueblado'\n",
        "}\n",
        "\n",
        "# Se les cambia el nombre con renombrar\n",
        "df.rename(columns=column_translation, inplace=True)\n",
        "\n",
        "# Verificamos los nuevos nombres de las features con display columns\n",
        "display(df.columns)"
      ]
    },
    {
      "cell_type": "markdown",
      "id": "ef720bd6",
      "metadata": {
        "id": "ef720bd6"
      },
      "source": [
        "# **Conclusión:** Describe aquí tu interpretación del resultado."
      ]
    },
    {
      "cell_type": "markdown",
      "id": "a86f5ae8",
      "metadata": {
        "id": "a86f5ae8"
      },
      "source": [
        "### Tarea: Número de filas y columnas en el DataFrame"
      ]
    },
    {
      "cell_type": "code",
      "execution_count": 6,
      "id": "adb1114a",
      "metadata": {
        "id": "adb1114a",
        "colab": {
          "base_uri": "https://localhost:8080/",
          "height": 34
        },
        "outputId": "70a63cab-9fb1-431a-d542-5c9fb74d6c1f"
      },
      "outputs": [
        {
          "output_type": "display_data",
          "data": {
            "text/plain": [
              "(545, 13)"
            ]
          },
          "metadata": {}
        }
      ],
      "source": [
        "# Obtenemos el numero de samples y features con el display que nos muestra el shape, o sea la forma\n",
        "display(df.shape)"
      ]
    },
    {
      "cell_type": "markdown",
      "id": "07138420",
      "metadata": {
        "id": "07138420"
      },
      "source": [
        "**Justificación técnica:** obtenemos el numero de samples y features con shape, que es pues la forma"
      ]
    },
    {
      "cell_type": "markdown",
      "id": "bf27b82f",
      "metadata": {
        "id": "bf27b82f"
      },
      "source": [
        "### Tarea: Verificando los tipos de datos de todas las columnas"
      ]
    },
    {
      "cell_type": "code",
      "execution_count": 7,
      "id": "d037bd53",
      "metadata": {
        "id": "d037bd53",
        "colab": {
          "base_uri": "https://localhost:8080/",
          "height": 382
        },
        "outputId": "86c78445-f0db-489f-9ad4-be2688ec3e8d"
      },
      "outputs": [
        {
          "output_type": "stream",
          "name": "stdout",
          "text": [
            "<class 'pandas.core.frame.DataFrame'>\n",
            "RangeIndex: 545 entries, 0 to 544\n",
            "Data columns (total 13 columns):\n",
            " #   Column              Non-Null Count  Dtype  \n",
            "---  ------              --------------  -----  \n",
            " 0   precio              545 non-null    int64  \n",
            " 1   area                545 non-null    int64  \n",
            " 2   habitaciones        540 non-null    float64\n",
            " 3   banos               544 non-null    float64\n",
            " 4   pisos               544 non-null    float64\n",
            " 5   calle_principal     539 non-null    object \n",
            " 6   cuarto_invitados    545 non-null    object \n",
            " 7   sotano              545 non-null    object \n",
            " 8   calefaccion_agua    544 non-null    object \n",
            " 9   aire_acondicionado  545 non-null    object \n",
            " 10  estacionamiento     545 non-null    int64  \n",
            " 11  area_preferida      544 non-null    object \n",
            " 12  estado_amueblado    542 non-null    object \n",
            "dtypes: float64(3), int64(3), object(7)\n",
            "memory usage: 55.5+ KB\n"
          ]
        },
        {
          "output_type": "display_data",
          "data": {
            "text/plain": [
              "None"
            ]
          },
          "metadata": {}
        }
      ],
      "source": [
        "# Se verifica que tipo de dato tiene la columna con el comando info que nos deja ver que tipo de dato se esta guardando en cada feature\n",
        "display(df.info())"
      ]
    },
    {
      "cell_type": "markdown",
      "id": "186e8cc9",
      "metadata": {
        "id": "186e8cc9"
      },
      "source": [
        " **Justificación técnica:** con el comando info vemos que tipo de datos se estan guardando en cada seccion del df"
      ]
    },
    {
      "cell_type": "markdown",
      "id": "12ba820b",
      "metadata": {
        "id": "12ba820b"
      },
      "source": [
        "### Tarea: Eliminación de filas duplicadas (si existen)\n",
        "\n",
        "- Guardamos las dimensiones originales del DataFrame\n",
        "- Eliminamos duplicados directamente en el DataFrame\n",
        "- Verificamos si hubo cambios"
      ]
    },
    {
      "cell_type": "code",
      "execution_count": 8,
      "id": "34df136b",
      "metadata": {
        "id": "34df136b",
        "colab": {
          "base_uri": "https://localhost:8080/"
        },
        "outputId": "a320db0e-8ad1-4209-8bea-b5438a4862c8"
      },
      "outputs": [
        {
          "output_type": "stream",
          "name": "stdout",
          "text": [
            "Original shape: (545, 13)\n",
            "New shape after removing duplicates: (545, 13)\n",
            "No duplicate rows were found.\n"
          ]
        }
      ],
      "source": [
        "# Hacemos una copia de el df original\n",
        "original_shape = df.shape\n",
        "print(f\"Original shape: {original_shape}\")\n",
        "\n",
        "# todos los duplicados se van con el comando drop\n",
        "df.drop_duplicates(inplace=True)\n",
        "\n",
        "# se verifica si cambió\n",
        "new_shape = df.shape\n",
        "print(f\"New shape after removing duplicates: {new_shape}\")\n",
        "\n",
        "if original_shape == new_shape:\n",
        "    print(\"No duplicate rows were found.\")\n",
        "else:\n",
        "    print(f\"{original_shape[0] - new_shape[0]} duplicate rows were removed.\")"
      ]
    },
    {
      "cell_type": "markdown",
      "id": "9fd790ec",
      "metadata": {
        "id": "9fd790ec"
      },
      "source": [
        "**Justificación técnica:** Hacemos una copia del df original. sacamos todos los duplicados con el true y verificamos y cambió y si no tiene duplicados"
      ]
    },
    {
      "cell_type": "markdown",
      "id": "696c32a7",
      "metadata": {
        "id": "696c32a7"
      },
      "source": [
        "###  Tarea: Análisis de valores nulos en el DataFrame\n",
        "\n",
        "- Verificar el número total de valores nulos por columna\n",
        "- Verificar el porcentaje de valores nulos por columna\n",
        "- Visualizar los valores nulos con un gráfico de calor con mapa de calor"
      ]
    },
    {
      "cell_type": "code",
      "execution_count": 9,
      "id": "12cae8c3",
      "metadata": {
        "id": "12cae8c3",
        "colab": {
          "base_uri": "https://localhost:8080/",
          "height": 1000
        },
        "outputId": "385c6be3-9352-4aaa-f8ef-b3c0186381ad"
      },
      "outputs": [
        {
          "output_type": "display_data",
          "data": {
            "text/plain": [
              "precio                0\n",
              "area                  0\n",
              "habitaciones          5\n",
              "banos                 1\n",
              "pisos                 1\n",
              "calle_principal       6\n",
              "cuarto_invitados      0\n",
              "sotano                0\n",
              "calefaccion_agua      1\n",
              "aire_acondicionado    0\n",
              "estacionamiento       0\n",
              "area_preferida        1\n",
              "estado_amueblado      3\n",
              "dtype: int64"
            ],
            "text/html": [
              "<div>\n",
              "<style scoped>\n",
              "    .dataframe tbody tr th:only-of-type {\n",
              "        vertical-align: middle;\n",
              "    }\n",
              "\n",
              "    .dataframe tbody tr th {\n",
              "        vertical-align: top;\n",
              "    }\n",
              "\n",
              "    .dataframe thead th {\n",
              "        text-align: right;\n",
              "    }\n",
              "</style>\n",
              "<table border=\"1\" class=\"dataframe\">\n",
              "  <thead>\n",
              "    <tr style=\"text-align: right;\">\n",
              "      <th></th>\n",
              "      <th>0</th>\n",
              "    </tr>\n",
              "  </thead>\n",
              "  <tbody>\n",
              "    <tr>\n",
              "      <th>precio</th>\n",
              "      <td>0</td>\n",
              "    </tr>\n",
              "    <tr>\n",
              "      <th>area</th>\n",
              "      <td>0</td>\n",
              "    </tr>\n",
              "    <tr>\n",
              "      <th>habitaciones</th>\n",
              "      <td>5</td>\n",
              "    </tr>\n",
              "    <tr>\n",
              "      <th>banos</th>\n",
              "      <td>1</td>\n",
              "    </tr>\n",
              "    <tr>\n",
              "      <th>pisos</th>\n",
              "      <td>1</td>\n",
              "    </tr>\n",
              "    <tr>\n",
              "      <th>calle_principal</th>\n",
              "      <td>6</td>\n",
              "    </tr>\n",
              "    <tr>\n",
              "      <th>cuarto_invitados</th>\n",
              "      <td>0</td>\n",
              "    </tr>\n",
              "    <tr>\n",
              "      <th>sotano</th>\n",
              "      <td>0</td>\n",
              "    </tr>\n",
              "    <tr>\n",
              "      <th>calefaccion_agua</th>\n",
              "      <td>1</td>\n",
              "    </tr>\n",
              "    <tr>\n",
              "      <th>aire_acondicionado</th>\n",
              "      <td>0</td>\n",
              "    </tr>\n",
              "    <tr>\n",
              "      <th>estacionamiento</th>\n",
              "      <td>0</td>\n",
              "    </tr>\n",
              "    <tr>\n",
              "      <th>area_preferida</th>\n",
              "      <td>1</td>\n",
              "    </tr>\n",
              "    <tr>\n",
              "      <th>estado_amueblado</th>\n",
              "      <td>3</td>\n",
              "    </tr>\n",
              "  </tbody>\n",
              "</table>\n",
              "</div><br><label><b>dtype:</b> int64</label>"
            ]
          },
          "metadata": {}
        },
        {
          "output_type": "display_data",
          "data": {
            "text/plain": [
              "precio                0.000000\n",
              "area                  0.000000\n",
              "habitaciones          0.917431\n",
              "banos                 0.183486\n",
              "pisos                 0.183486\n",
              "calle_principal       1.100917\n",
              "cuarto_invitados      0.000000\n",
              "sotano                0.000000\n",
              "calefaccion_agua      0.183486\n",
              "aire_acondicionado    0.000000\n",
              "estacionamiento       0.000000\n",
              "area_preferida        0.183486\n",
              "estado_amueblado      0.550459\n",
              "dtype: float64"
            ],
            "text/html": [
              "<div>\n",
              "<style scoped>\n",
              "    .dataframe tbody tr th:only-of-type {\n",
              "        vertical-align: middle;\n",
              "    }\n",
              "\n",
              "    .dataframe tbody tr th {\n",
              "        vertical-align: top;\n",
              "    }\n",
              "\n",
              "    .dataframe thead th {\n",
              "        text-align: right;\n",
              "    }\n",
              "</style>\n",
              "<table border=\"1\" class=\"dataframe\">\n",
              "  <thead>\n",
              "    <tr style=\"text-align: right;\">\n",
              "      <th></th>\n",
              "      <th>0</th>\n",
              "    </tr>\n",
              "  </thead>\n",
              "  <tbody>\n",
              "    <tr>\n",
              "      <th>precio</th>\n",
              "      <td>0.000000</td>\n",
              "    </tr>\n",
              "    <tr>\n",
              "      <th>area</th>\n",
              "      <td>0.000000</td>\n",
              "    </tr>\n",
              "    <tr>\n",
              "      <th>habitaciones</th>\n",
              "      <td>0.917431</td>\n",
              "    </tr>\n",
              "    <tr>\n",
              "      <th>banos</th>\n",
              "      <td>0.183486</td>\n",
              "    </tr>\n",
              "    <tr>\n",
              "      <th>pisos</th>\n",
              "      <td>0.183486</td>\n",
              "    </tr>\n",
              "    <tr>\n",
              "      <th>calle_principal</th>\n",
              "      <td>1.100917</td>\n",
              "    </tr>\n",
              "    <tr>\n",
              "      <th>cuarto_invitados</th>\n",
              "      <td>0.000000</td>\n",
              "    </tr>\n",
              "    <tr>\n",
              "      <th>sotano</th>\n",
              "      <td>0.000000</td>\n",
              "    </tr>\n",
              "    <tr>\n",
              "      <th>calefaccion_agua</th>\n",
              "      <td>0.183486</td>\n",
              "    </tr>\n",
              "    <tr>\n",
              "      <th>aire_acondicionado</th>\n",
              "      <td>0.000000</td>\n",
              "    </tr>\n",
              "    <tr>\n",
              "      <th>estacionamiento</th>\n",
              "      <td>0.000000</td>\n",
              "    </tr>\n",
              "    <tr>\n",
              "      <th>area_preferida</th>\n",
              "      <td>0.183486</td>\n",
              "    </tr>\n",
              "    <tr>\n",
              "      <th>estado_amueblado</th>\n",
              "      <td>0.550459</td>\n",
              "    </tr>\n",
              "  </tbody>\n",
              "</table>\n",
              "</div><br><label><b>dtype:</b> float64</label>"
            ]
          },
          "metadata": {}
        },
        {
          "output_type": "display_data",
          "data": {
            "text/plain": [
              "<Figure size 1000x600 with 1 Axes>"
            ],
            "image/png": "[encoded data removed]"
          },
          "metadata": {}
        }
      ],
      "source": [
        "# Buscamos todas las casillas donde hayan nulos y los sumamos\n",
        "display(df.isnull().sum())\n",
        "\n",
        "# Verificamos el porcentaje de nulos con una formula sencilla ayudandonos del tamaño del df con len(df)\n",
        "display(df.isnull().sum() / len(df) * 100)\n",
        "\n",
        "# Visualizamos los valores nulos con ayuda de plt y el heatmap (mapa de calor)\n",
        "plt.figure(figsize=(10, 6))\n",
        "sns.heatmap(df.isnull(), cbar=False, cmap='viridis')\n",
        "plt.title('Mapa de Calor de Valores Nulos')\n",
        "plt.show()"
      ]
    },
    {
      "cell_type": "markdown",
      "id": "3dad1960",
      "metadata": {
        "id": "3dad1960"
      },
      "source": [
        "**Justificación técnica:** buscamos todas las casillas que tengan nulos con el.isnull y hacemos un mapa de calor donde hayan nulos en nuestro df"
      ]
    },
    {
      "cell_type": "markdown",
      "id": "f9a0c39f",
      "metadata": {
        "id": "f9a0c39f"
      },
      "source": [
        "###  Tarea: Imputación de valores nulos\n",
        "- 1. Imputar la columna 'bedrooms' con el valor fijo de 4, ya se recolecto el valor real.\n",
        "- 2. Imputar bathrooms con valor de  1 stories con 3 ya se recolecto el valor real.\n",
        "- 3. Imputar el resto de columnas categóricas con la moda (valor más frecuente) por que los dato son discretos.\n",
        "- 4. (Opcional) Verificar nuevamente si aún quedan valores nulos"
      ]
    },
    {
      "cell_type": "code",
      "execution_count": 11,
      "id": "fc0715e8",
      "metadata": {
        "id": "fc0715e8",
        "colab": {
          "base_uri": "https://localhost:8080/",
          "height": 492
        },
        "outputId": "6c8a6ed3-6303-4b59-c89b-99016bf44a2a"
      },
      "outputs": [
        {
          "output_type": "display_data",
          "data": {
            "text/plain": [
              "precio                0\n",
              "area                  0\n",
              "habitaciones          0\n",
              "banos                 0\n",
              "pisos                 0\n",
              "calle_principal       0\n",
              "cuarto_invitados      0\n",
              "sotano                0\n",
              "calefaccion_agua      0\n",
              "aire_acondicionado    0\n",
              "estacionamiento       0\n",
              "area_preferida        0\n",
              "estado_amueblado      0\n",
              "dtype: int64"
            ],
            "text/html": [
              "<div>\n",
              "<style scoped>\n",
              "    .dataframe tbody tr th:only-of-type {\n",
              "        vertical-align: middle;\n",
              "    }\n",
              "\n",
              "    .dataframe tbody tr th {\n",
              "        vertical-align: top;\n",
              "    }\n",
              "\n",
              "    .dataframe thead th {\n",
              "        text-align: right;\n",
              "    }\n",
              "</style>\n",
              "<table border=\"1\" class=\"dataframe\">\n",
              "  <thead>\n",
              "    <tr style=\"text-align: right;\">\n",
              "      <th></th>\n",
              "      <th>0</th>\n",
              "    </tr>\n",
              "  </thead>\n",
              "  <tbody>\n",
              "    <tr>\n",
              "      <th>precio</th>\n",
              "      <td>0</td>\n",
              "    </tr>\n",
              "    <tr>\n",
              "      <th>area</th>\n",
              "      <td>0</td>\n",
              "    </tr>\n",
              "    <tr>\n",
              "      <th>habitaciones</th>\n",
              "      <td>0</td>\n",
              "    </tr>\n",
              "    <tr>\n",
              "      <th>banos</th>\n",
              "      <td>0</td>\n",
              "    </tr>\n",
              "    <tr>\n",
              "      <th>pisos</th>\n",
              "      <td>0</td>\n",
              "    </tr>\n",
              "    <tr>\n",
              "      <th>calle_principal</th>\n",
              "      <td>0</td>\n",
              "    </tr>\n",
              "    <tr>\n",
              "      <th>cuarto_invitados</th>\n",
              "      <td>0</td>\n",
              "    </tr>\n",
              "    <tr>\n",
              "      <th>sotano</th>\n",
              "      <td>0</td>\n",
              "    </tr>\n",
              "    <tr>\n",
              "      <th>calefaccion_agua</th>\n",
              "      <td>0</td>\n",
              "    </tr>\n",
              "    <tr>\n",
              "      <th>aire_acondicionado</th>\n",
              "      <td>0</td>\n",
              "    </tr>\n",
              "    <tr>\n",
              "      <th>estacionamiento</th>\n",
              "      <td>0</td>\n",
              "    </tr>\n",
              "    <tr>\n",
              "      <th>area_preferida</th>\n",
              "      <td>0</td>\n",
              "    </tr>\n",
              "    <tr>\n",
              "      <th>estado_amueblado</th>\n",
              "      <td>0</td>\n",
              "    </tr>\n",
              "  </tbody>\n",
              "</table>\n",
              "</div><br><label><b>dtype:</b> int64</label>"
            ]
          },
          "metadata": {}
        }
      ],
      "source": [
        "# se imputa habitaciones con el valor fijo de 4, fillna para rellenar donde hay valores nulos\n",
        "df['habitaciones']= df['habitaciones'].fillna(4)\n",
        "\n",
        "# hacemos lo mismo con banos (baños) y pisos con 1 y 3 respectivamente\n",
        "df['banos']=df['banos'].fillna(1)\n",
        "df['pisos']= df['pisos'].fillna(3)\n",
        "\n",
        "# con ayuda de la moda (.mode) imputamos el resto de columnas con los valores mas frecuentes\n",
        "for col in ['calle_principal', 'calefaccion_agua', 'area_preferida', 'estado_amueblado']:\n",
        "    if df[col].isnull().any():\n",
        "        mode_value = df[col].mode()[0]\n",
        "        df[col].fillna(mode_value, inplace=True)\n",
        "\n",
        "# Revisamos si se nos queda algun valor nulo despues de todo el proceso de imputacion\n",
        "display(df.isnull().sum())"
      ]
    },
    {
      "cell_type": "markdown",
      "id": "f14f2aa3",
      "metadata": {
        "id": "f14f2aa3"
      },
      "source": [
        " **Justificación técnica:** quitamos todos los nulos del df, y los vamos llenando por otros valores, con el fillna que significa rellenar nulos para unas columnas, y para otras las rellenamos con la moda que que en base a lo que hemos visto en clase puede no ser lo mas preciso pero en este ejercicio es funcional y revisamos si se nos queda algun nulo"
      ]
    },
    {
      "cell_type": "markdown",
      "id": "e1fa0d42",
      "metadata": {
        "id": "e1fa0d42"
      },
      "source": [
        "###  Tarea: Mostrar un resumen estadístico de las variables numéricas del DataFrame"
      ]
    },
    {
      "cell_type": "code",
      "execution_count": 13,
      "id": "18e2b705",
      "metadata": {
        "id": "18e2b705",
        "colab": {
          "base_uri": "https://localhost:8080/",
          "height": 300
        },
        "outputId": "928aa97a-11f0-4bf9-fd3c-8da1e5cf63f5"
      },
      "outputs": [
        {
          "output_type": "display_data",
          "data": {
            "text/plain": [
              "             precio          area  habitaciones       banos       pisos  \\\n",
              "count  5.450000e+02    545.000000    545.000000  545.000000  545.000000   \n",
              "mean   4.766729e+06   5150.541284      2.965138    1.284404    1.807339   \n",
              "std    1.870440e+06   2170.141023      0.738064    0.501684    0.868961   \n",
              "min    1.750000e+06   1650.000000      1.000000    1.000000    1.000000   \n",
              "25%    3.430000e+06   3600.000000      2.000000    1.000000    1.000000   \n",
              "50%    4.340000e+06   4600.000000      3.000000    1.000000    2.000000   \n",
              "75%    5.740000e+06   6360.000000      3.000000    2.000000    2.000000   \n",
              "max    1.330000e+07  16200.000000      6.000000    4.000000    4.000000   \n",
              "\n",
              "       estacionamiento  \n",
              "count       545.000000  \n",
              "mean          0.693578  \n",
              "std           0.861586  \n",
              "min           0.000000  \n",
              "25%           0.000000  \n",
              "50%           0.000000  \n",
              "75%           1.000000  \n",
              "max           3.000000  "
            ],
            "text/html": [
              "\n",
              "  <div id=\"df-c643d3f8-5fc0-45cf-b789-92ee393026e4\" class=\"colab-df-container\">\n",
              "    <div>\n",
              "<style scoped>\n",
              "    .dataframe tbody tr th:only-of-type {\n",
              "        vertical-align: middle;\n",
              "    }\n",
              "\n",
              "    .dataframe tbody tr th {\n",
              "        vertical-align: top;\n",
              "    }\n",
              "\n",
              "    .dataframe thead th {\n",
              "        text-align: right;\n",
              "    }\n",
              "</style>\n",
              "<table border=\"1\" class=\"dataframe\">\n",
              "  <thead>\n",
              "    <tr style=\"text-align: right;\">\n",
              "      <th></th>\n",
              "      <th>precio</th>\n",
              "      <th>area</th>\n",
              "      <th>habitaciones</th>\n",
              "      <th>banos</th>\n",
              "      <th>pisos</th>\n",
              "      <th>estacionamiento</th>\n",
              "    </tr>\n",
              "  </thead>\n",
              "  <tbody>\n",
              "    <tr>\n",
              "      <th>count</th>\n",
              "      <td>5.450000e+02</td>\n",
              "      <td>545.000000</td>\n",
              "      <td>545.000000</td>\n",
              "      <td>545.000000</td>\n",
              "      <td>545.000000</td>\n",
              "      <td>545.000000</td>\n",
              "    </tr>\n",
              "    <tr>\n",
              "      <th>mean</th>\n",
              "      <td>4.766729e+06</td>\n",
              "      <td>5150.541284</td>\n",
              "      <td>2.965138</td>\n",
              "      <td>1.284404</td>\n",
              "      <td>1.807339</td>\n",
              "      <td>0.693578</td>\n",
              "    </tr>\n",
              "    <tr>\n",
              "      <th>std</th>\n",
              "      <td>1.870440e+06</td>\n",
              "      <td>2170.141023</td>\n",
              "      <td>0.738064</td>\n",
              "      <td>0.501684</td>\n",
              "      <td>0.868961</td>\n",
              "      <td>0.861586</td>\n",
              "    </tr>\n",
              "    <tr>\n",
              "      <th>min</th>\n",
              "      <td>1.750000e+06</td>\n",
              "      <td>1650.000000</td>\n",
              "      <td>1.000000</td>\n",
              "      <td>1.000000</td>\n",
              "      <td>1.000000</td>\n",
              "      <td>0.000000</td>\n",
              "    </tr>\n",
              "    <tr>\n",
              "      <th>25%</th>\n",
              "      <td>3.430000e+06</td>\n",
              "      <td>3600.000000</td>\n",
              "      <td>2.000000</td>\n",
              "      <td>1.000000</td>\n",
              "      <td>1.000000</td>\n",
              "      <td>0.000000</td>\n",
              "    </tr>\n",
              "    <tr>\n",
              "      <th>50%</th>\n",
              "      <td>4.340000e+06</td>\n",
              "      <td>4600.000000</td>\n",
              "      <td>3.000000</td>\n",
              "      <td>1.000000</td>\n",
              "      <td>2.000000</td>\n",
              "      <td>0.000000</td>\n",
              "    </tr>\n",
              "    <tr>\n",
              "      <th>75%</th>\n",
              "      <td>5.740000e+06</td>\n",
              "      <td>6360.000000</td>\n",
              "      <td>3.000000</td>\n",
              "      <td>2.000000</td>\n",
              "      <td>2.000000</td>\n",
              "      <td>1.000000</td>\n",
              "    </tr>\n",
              "    <tr>\n",
              "      <th>max</th>\n",
              "      <td>1.330000e+07</td>\n",
              "      <td>16200.000000</td>\n",
              "      <td>6.000000</td>\n",
              "      <td>4.000000</td>\n",
              "      <td>4.000000</td>\n",
              "      <td>3.000000</td>\n",
              "    </tr>\n",
              "  </tbody>\n",
              "</table>\n",
              "</div>\n",
              "    <div class=\"colab-df-buttons\">\n",
              "\n",
              "  <div class=\"colab-df-container\">\n",
              "    <button class=\"colab-df-convert\" onclick=\"convertToInteractive('df-c643d3f8-5fc0-45cf-b789-92ee393026e4')\"\n",
              "            title=\"Convert this dataframe to an interactive table.\"\n",
              "            style=\"display:none;\">\n",
              "\n",
              "  <svg xmlns=\"http://www.w3.org/2000/svg\" height=\"24px\" viewBox=\"0 -960 960 960\">\n",
              "    <path d=\"M120-120v-720h720v720H120Zm60-500h600v-160H180v160Zm220 220h160v-160H400v160Zm0 220h160v-160H400v160ZM180-400h160v-160H180v160Zm440 0h160v-160H620v160ZM180-180h160v-160H180v160Zm440 0h160v-160H620v160Z\"/>\n",
              "  </svg>\n",
              "    </button>\n",
              "\n",
              "  <style>\n",
              "    .colab-df-container {\n",
              "      display:flex;\n",
              "      gap: 12px;\n",
              "    }\n",
              "\n",
              "    .colab-df-convert {\n",
              "      background-color: #E8F0FE;\n",
              "      border: none;\n",
              "      border-radius: 50%;\n",
              "      cursor: pointer;\n",
              "      display: none;\n",
              "      fill: #1967D2;\n",
              "      height: 32px;\n",
              "      padding: 0 0 0 0;\n",
              "      width: 32px;\n",
              "    }\n",
              "\n",
              "    .colab-df-convert:hover {\n",
              "      background-color: #E2EBFA;\n",
              "      box-shadow: 0px 1px 2px rgba(60, 64, 67, 0.3), 0px 1px 3px 1px rgba(60, 64, 67, 0.15);\n",
              "      fill: #174EA6;\n",
              "    }\n",
              "\n",
              "    .colab-df-buttons div {\n",
              "      margin-bottom: 4px;\n",
              "    }\n",
              "\n",
              "    [theme=dark] .colab-df-convert {\n",
              "      background-color: #3B4455;\n",
              "      fill: #D2E3FC;\n",
              "    }\n",
              "\n",
              "    [theme=dark] .colab-df-convert:hover {\n",
              "      background-color: #434B5C;\n",
              "      box-shadow: 0px 1px 3px 1px rgba(0, 0, 0, 0.15);\n",
              "      filter: drop-shadow(0px 1px 2px rgba(0, 0, 0, 0.3));\n",
              "      fill: #FFFFFF;\n",
              "    }\n",
              "  </style>\n",
              "\n",
              "    <script>\n",
              "      const buttonEl =\n",
              "        document.querySelector('#df-c643d3f8-5fc0-45cf-b789-92ee393026e4 button.colab-df-convert');\n",
              "      buttonEl.style.display =\n",
              "        google.colab.kernel.accessAllowed ? 'block' : 'none';\n",
              "\n",
              "      async function convertToInteractive(key) {\n",
              "        const element = document.querySelector('#df-c643d3f8-5fc0-45cf-b789-92ee393026e4');\n",
              "        const dataTable =\n",
              "          await google.colab.kernel.invokeFunction('convertToInteractive',\n",
              "                                                    [key], {});\n",
              "        if (!dataTable) return;\n",
              "\n",
              "        const docLinkHtml = 'Like what you see? Visit the ' +\n",
              "          '<a target=\"_blank\" href=https://colab.research.google.com/notebooks/data_table.ipynb>data table notebook</a>'\n",
              "          + ' to learn more about interactive tables.';\n",
              "        element.innerHTML = '';\n",
              "        dataTable['output_type'] = 'display_data';\n",
              "        await google.colab.output.renderOutput(dataTable, element);\n",
              "        const docLink = document.createElement('div');\n",
              "        docLink.innerHTML = docLinkHtml;\n",
              "        element.appendChild(docLink);\n",
              "      }\n",
              "    </script>\n",
              "  </div>\n",
              "\n",
              "\n",
              "    <div id=\"df-ca74ae6d-aeb5-4883-8d60-90eea8044258\">\n",
              "      <button class=\"colab-df-quickchart\" onclick=\"quickchart('df-ca74ae6d-aeb5-4883-8d60-90eea8044258')\"\n",
              "                title=\"Suggest charts\"\n",
              "                style=\"display:none;\">\n",
              "\n",
              "<svg xmlns=\"http://www.w3.org/2000/svg\" height=\"24px\"viewBox=\"0 0 24 24\"\n",
              "     width=\"24px\">\n",
              "    <g>\n",
              "        <path d=\"M19 3H5c-1.1 0-2 .9-2 2v14c0 1.1.9 2 2 2h14c1.1 0 2-.9 2-2V5c0-1.1-.9-2-2-2zM9 17H7v-7h2v7zm4 0h-2V7h2v10zm4 0h-2v-4h2v4z\"/>\n",
              "    </g>\n",
              "</svg>\n",
              "      </button>\n",
              "\n",
              "<style>\n",
              "  .colab-df-quickchart {\n",
              "      --bg-color: #E8F0FE;\n",
              "      --fill-color: #1967D2;\n",
              "      --hover-bg-color: #E2EBFA;\n",
              "      --hover-fill-color: #174EA6;\n",
              "      --disabled-fill-color: #AAA;\n",
              "      --disabled-bg-color: #DDD;\n",
              "  }\n",
              "\n",
              "  [theme=dark] .colab-df-quickchart {\n",
              "      --bg-color: #3B4455;\n",
              "      --fill-color: #D2E3FC;\n",
              "      --hover-bg-color: #434B5C;\n",
              "      --hover-fill-color: #FFFFFF;\n",
              "      --disabled-bg-color: #3B4455;\n",
              "      --disabled-fill-color: #666;\n",
              "  }\n",
              "\n",
              "  .colab-df-quickchart {\n",
              "    background-color: var(--bg-color);\n",
              "    border: none;\n",
              "    border-radius: 50%;\n",
              "    cursor: pointer;\n",
              "    display: none;\n",
              "    fill: var(--fill-color);\n",
              "    height: 32px;\n",
              "    padding: 0;\n",
              "    width: 32px;\n",
              "  }\n",
              "\n",
              "  .colab-df-quickchart:hover {\n",
              "    background-color: var(--hover-bg-color);\n",
              "    box-shadow: 0 1px 2px rgba(60, 64, 67, 0.3), 0 1px 3px 1px rgba(60, 64, 67, 0.15);\n",
              "    fill: var(--button-hover-fill-color);\n",
              "  }\n",
              "\n",
              "  .colab-df-quickchart-complete:disabled,\n",
              "  .colab-df-quickchart-complete:disabled:hover {\n",
              "    background-color: var(--disabled-bg-color);\n",
              "    fill: var(--disabled-fill-color);\n",
              "    box-shadow: none;\n",
              "  }\n",
              "\n",
              "  .colab-df-spinner {\n",
              "    border: 2px solid var(--fill-color);\n",
              "    border-color: transparent;\n",
              "    border-bottom-color: var(--fill-color);\n",
              "    animation:\n",
              "      spin 1s steps(1) infinite;\n",
              "  }\n",
              "\n",
              "  @keyframes spin {\n",
              "    0% {\n",
              "      border-color: transparent;\n",
              "      border-bottom-color: var(--fill-color);\n",
              "      border-left-color: var(--fill-color);\n",
              "    }\n",
              "    20% {\n",
              "      border-color: transparent;\n",
              "      border-left-color: var(--fill-color);\n",
              "      border-top-color: var(--fill-color);\n",
              "    }\n",
              "    30% {\n",
              "      border-color: transparent;\n",
              "      border-left-color: var(--fill-color);\n",
              "      border-top-color: var(--fill-color);\n",
              "      border-right-color: var(--fill-color);\n",
              "    }\n",
              "    40% {\n",
              "      border-color: transparent;\n",
              "      border-right-color: var(--fill-color);\n",
              "      border-top-color: var(--fill-color);\n",
              "    }\n",
              "    60% {\n",
              "      border-color: transparent;\n",
              "      border-right-color: var(--fill-color);\n",
              "    }\n",
              "    80% {\n",
              "      border-color: transparent;\n",
              "      border-right-color: var(--fill-color);\n",
              "      border-bottom-color: var(--fill-color);\n",
              "    }\n",
              "    90% {\n",
              "      border-color: transparent;\n",
              "      border-bottom-color: var(--fill-color);\n",
              "    }\n",
              "  }\n",
              "</style>\n",
              "\n",
              "      <script>\n",
              "        async function quickchart(key) {\n",
              "          const quickchartButtonEl =\n",
              "            document.querySelector('#' + key + ' button');\n",
              "          quickchartButtonEl.disabled = true;  // To prevent multiple clicks.\n",
              "          quickchartButtonEl.classList.add('colab-df-spinner');\n",
              "          try {\n",
              "            const charts = await google.colab.kernel.invokeFunction(\n",
              "                'suggestCharts', [key], {});\n",
              "          } catch (error) {\n",
              "            console.error('Error during call to suggestCharts:', error);\n",
              "          }\n",
              "          quickchartButtonEl.classList.remove('colab-df-spinner');\n",
              "          quickchartButtonEl.classList.add('colab-df-quickchart-complete');\n",
              "        }\n",
              "        (() => {\n",
              "          let quickchartButtonEl =\n",
              "            document.querySelector('#df-ca74ae6d-aeb5-4883-8d60-90eea8044258 button');\n",
              "          quickchartButtonEl.style.display =\n",
              "            google.colab.kernel.accessAllowed ? 'block' : 'none';\n",
              "        })();\n",
              "      </script>\n",
              "    </div>\n",
              "\n",
              "    </div>\n",
              "  </div>\n"
            ],
            "application/vnd.google.colaboratory.intrinsic+json": {
              "type": "dataframe",
              "summary": "{\n  \"name\": \"display(df\",\n  \"rows\": 8,\n  \"fields\": [\n    {\n      \"column\": \"precio\",\n      \"properties\": {\n        \"dtype\": \"number\",\n        \"std\": 4050766.5892287116,\n        \"min\": 545.0,\n        \"max\": 13300000.0,\n        \"num_unique_values\": 8,\n        \"samples\": [\n          4766729.247706422,\n          4340000.0,\n          545.0\n        ],\n        \"semantic_type\": \"\",\n        \"description\": \"\"\n      }\n    },\n    {\n      \"column\": \"area\",\n      \"properties\": {\n        \"dtype\": \"number\",\n        \"std\": 4906.2698868605785,\n        \"min\": 545.0,\n        \"max\": 16200.0,\n        \"num_unique_values\": 8,\n        \"samples\": [\n          5150.54128440367,\n          4600.0,\n          545.0\n        ],\n        \"semantic_type\": \"\",\n        \"description\": \"\"\n      }\n    },\n    {\n      \"column\": \"habitaciones\",\n      \"properties\": {\n        \"dtype\": \"number\",\n        \"std\": 191.74878444768592,\n        \"min\": 0.738063860568575,\n        \"max\": 545.0,\n        \"num_unique_values\": 7,\n        \"samples\": [\n          545.0,\n          2.9651376146788992,\n          3.0\n        ],\n        \"semantic_type\": \"\",\n        \"description\": \"\"\n      }\n    },\n    {\n      \"column\": \"banos\",\n      \"properties\": {\n        \"dtype\": \"number\",\n        \"std\": 192.1448967859424,\n        \"min\": 0.5016836198225657,\n        \"max\": 545.0,\n        \"num_unique_values\": 6,\n        \"samples\": [\n          545.0,\n          1.2844036697247707,\n          4.0\n        ],\n        \"semantic_type\": \"\",\n        \"description\": \"\"\n      }\n    },\n    {\n      \"column\": \"pisos\",\n      \"properties\": {\n        \"dtype\": \"number\",\n        \"std\": 192.0489761079559,\n        \"min\": 0.8689609267871451,\n        \"max\": 545.0,\n        \"num_unique_values\": 6,\n        \"samples\": [\n          545.0,\n          1.8073394495412844,\n          4.0\n        ],\n        \"semantic_type\": \"\",\n        \"description\": \"\"\n      }\n    },\n    {\n      \"column\": \"estacionamiento\",\n      \"properties\": {\n        \"dtype\": \"number\",\n        \"std\": 192.40854964721382,\n        \"min\": 0.0,\n        \"max\": 545.0,\n        \"num_unique_values\": 6,\n        \"samples\": [\n          545.0,\n          0.6935779816513762,\n          3.0\n        ],\n        \"semantic_type\": \"\",\n        \"description\": \"\"\n      }\n    }\n  ]\n}"
            }
          },
          "metadata": {}
        }
      ],
      "source": [
        "\n",
        "#con df.describe nos puede dar un resumen de todo nuestro datframa y con include=np.number le decimos que solo nos muestre de los valores numericos\n",
        "display(df.describe(include=np.number))"
      ]
    },
    {
      "cell_type": "markdown",
      "id": "1a101195",
      "metadata": {
        "id": "1a101195"
      },
      "source": [
        "**Justificación técnica:** hacemos un display de los valores unicamente numericos con el include=np.number ."
      ]
    },
    {
      "cell_type": "markdown",
      "id": "d0a31bb1",
      "metadata": {
        "id": "d0a31bb1"
      },
      "source": [
        ":###  Tarea: Extraer las variables numéricas del DataFrame\n",
        "- Extraer las variables categóricas (objetos o tipo category)"
      ]
    },
    {
      "cell_type": "code",
      "execution_count": 14,
      "id": "069d060e",
      "metadata": {
        "id": "069d060e"
      },
      "outputs": [],
      "source": [
        "# extraemos las variables numericas que es cualquier tipo dato number( pueden ser int, floats, 32, 64, etc) con el include\n",
        "df_numerical = df.select_dtypes(include=np.number)\n",
        "\n",
        "# extraemos las variables categoricas de tipo object como los strings, entre otros que son objetos\n",
        "df_categorical = df.select_dtypes(include='object')"
      ]
    },
    {
      "cell_type": "markdown",
      "id": "3612d99a",
      "metadata": {
        "id": "3612d99a"
      },
      "source": [
        " **Justificación técnica:** separamos las variables numericas y categoricas como si fuesen 2 df."
      ]
    },
    {
      "cell_type": "markdown",
      "id": "4c33a6fa",
      "metadata": {
        "id": "4c33a6fa"
      },
      "source": [
        "###  Tarea: Muestre las primeras muestras de las variables categoricas"
      ]
    },
    {
      "cell_type": "code",
      "execution_count": 15,
      "id": "29e26adc",
      "metadata": {
        "id": "29e26adc",
        "colab": {
          "base_uri": "https://localhost:8080/",
          "height": 206
        },
        "outputId": "a4e567ba-7a8e-4c51-af9c-c40a5038840d"
      },
      "outputs": [
        {
          "output_type": "display_data",
          "data": {
            "text/plain": [
              "  calle_principal cuarto_invitados sotano calefaccion_agua aire_acondicionado  \\\n",
              "0             yes               no     no               no                yes   \n",
              "1             yes               no     no               no                yes   \n",
              "2             yes               no    yes               no                 no   \n",
              "3             yes               no    yes               no                yes   \n",
              "4             yes              yes    yes               no                yes   \n",
              "\n",
              "  area_preferida estado_amueblado  \n",
              "0            yes        furnished  \n",
              "1             no        furnished  \n",
              "2            yes   semi-furnished  \n",
              "3            yes        furnished  \n",
              "4             no        furnished  "
            ],
            "text/html": [
              "\n",
              "  <div id=\"df-cb1877de-e684-4569-a1b5-994cf8821253\" class=\"colab-df-container\">\n",
              "    <div>\n",
              "<style scoped>\n",
              "    .dataframe tbody tr th:only-of-type {\n",
              "        vertical-align: middle;\n",
              "    }\n",
              "\n",
              "    .dataframe tbody tr th {\n",
              "        vertical-align: top;\n",
              "    }\n",
              "\n",
              "    .dataframe thead th {\n",
              "        text-align: right;\n",
              "    }\n",
              "</style>\n",
              "<table border=\"1\" class=\"dataframe\">\n",
              "  <thead>\n",
              "    <tr style=\"text-align: right;\">\n",
              "      <th></th>\n",
              "      <th>calle_principal</th>\n",
              "      <th>cuarto_invitados</th>\n",
              "      <th>sotano</th>\n",
              "      <th>calefaccion_agua</th>\n",
              "      <th>aire_acondicionado</th>\n",
              "      <th>area_preferida</th>\n",
              "      <th>estado_amueblado</th>\n",
              "    </tr>\n",
              "  </thead>\n",
              "  <tbody>\n",
              "    <tr>\n",
              "      <th>0</th>\n",
              "      <td>yes</td>\n",
              "      <td>no</td>\n",
              "      <td>no</td>\n",
              "      <td>no</td>\n",
              "      <td>yes</td>\n",
              "      <td>yes</td>\n",
              "      <td>furnished</td>\n",
              "    </tr>\n",
              "    <tr>\n",
              "      <th>1</th>\n",
              "      <td>yes</td>\n",
              "      <td>no</td>\n",
              "      <td>no</td>\n",
              "      <td>no</td>\n",
              "      <td>yes</td>\n",
              "      <td>no</td>\n",
              "      <td>furnished</td>\n",
              "    </tr>\n",
              "    <tr>\n",
              "      <th>2</th>\n",
              "      <td>yes</td>\n",
              "      <td>no</td>\n",
              "      <td>yes</td>\n",
              "      <td>no</td>\n",
              "      <td>no</td>\n",
              "      <td>yes</td>\n",
              "      <td>semi-furnished</td>\n",
              "    </tr>\n",
              "    <tr>\n",
              "      <th>3</th>\n",
              "      <td>yes</td>\n",
              "      <td>no</td>\n",
              "      <td>yes</td>\n",
              "      <td>no</td>\n",
              "      <td>yes</td>\n",
              "      <td>yes</td>\n",
              "      <td>furnished</td>\n",
              "    </tr>\n",
              "    <tr>\n",
              "      <th>4</th>\n",
              "      <td>yes</td>\n",
              "      <td>yes</td>\n",
              "      <td>yes</td>\n",
              "      <td>no</td>\n",
              "      <td>yes</td>\n",
              "      <td>no</td>\n",
              "      <td>furnished</td>\n",
              "    </tr>\n",
              "  </tbody>\n",
              "</table>\n",
              "</div>\n",
              "    <div class=\"colab-df-buttons\">\n",
              "\n",
              "  <div class=\"colab-df-container\">\n",
              "    <button class=\"colab-df-convert\" onclick=\"convertToInteractive('df-cb1877de-e684-4569-a1b5-994cf8821253')\"\n",
              "            title=\"Convert this dataframe to an interactive table.\"\n",
              "            style=\"display:none;\">\n",
              "\n",
              "  <svg xmlns=\"http://www.w3.org/2000/svg\" height=\"24px\" viewBox=\"0 -960 960 960\">\n",
              "    <path d=\"M120-120v-720h720v720H120Zm60-500h600v-160H180v160Zm220 220h160v-160H400v160Zm0 220h160v-160H400v160ZM180-400h160v-160H180v160Zm440 0h160v-160H620v160ZM180-180h160v-160H180v160Zm440 0h160v-160H620v160Z\"/>\n",
              "  </svg>\n",
              "    </button>\n",
              "\n",
              "  <style>\n",
              "    .colab-df-container {\n",
              "      display:flex;\n",
              "      gap: 12px;\n",
              "    }\n",
              "\n",
              "    .colab-df-convert {\n",
              "      background-color: #E8F0FE;\n",
              "      border: none;\n",
              "      border-radius: 50%;\n",
              "      cursor: pointer;\n",
              "      display: none;\n",
              "      fill: #1967D2;\n",
              "      height: 32px;\n",
              "      padding: 0 0 0 0;\n",
              "      width: 32px;\n",
              "    }\n",
              "\n",
              "    .colab-df-convert:hover {\n",
              "      background-color: #E2EBFA;\n",
              "      box-shadow: 0px 1px 2px rgba(60, 64, 67, 0.3), 0px 1px 3px 1px rgba(60, 64, 67, 0.15);\n",
              "      fill: #174EA6;\n",
              "    }\n",
              "\n",
              "    .colab-df-buttons div {\n",
              "      margin-bottom: 4px;\n",
              "    }\n",
              "\n",
              "    [theme=dark] .colab-df-convert {\n",
              "      background-color: #3B4455;\n",
              "      fill: #D2E3FC;\n",
              "    }\n",
              "\n",
              "    [theme=dark] .colab-df-convert:hover {\n",
              "      background-color: #434B5C;\n",
              "      box-shadow: 0px 1px 3px 1px rgba(0, 0, 0, 0.15);\n",
              "      filter: drop-shadow(0px 1px 2px rgba(0, 0, 0, 0.3));\n",
              "      fill: #FFFFFF;\n",
              "    }\n",
              "  </style>\n",
              "\n",
              "    <script>\n",
              "      const buttonEl =\n",
              "        document.querySelector('#df-cb1877de-e684-4569-a1b5-994cf8821253 button.colab-df-convert');\n",
              "      buttonEl.style.display =\n",
              "        google.colab.kernel.accessAllowed ? 'block' : 'none';\n",
              "\n",
              "      async function convertToInteractive(key) {\n",
              "        const element = document.querySelector('#df-cb1877de-e684-4569-a1b5-994cf8821253');\n",
              "        const dataTable =\n",
              "          await google.colab.kernel.invokeFunction('convertToInteractive',\n",
              "                                                    [key], {});\n",
              "        if (!dataTable) return;\n",
              "\n",
              "        const docLinkHtml = 'Like what you see? Visit the ' +\n",
              "          '<a target=\"_blank\" href=https://colab.research.google.com/notebooks/data_table.ipynb>data table notebook</a>'\n",
              "          + ' to learn more about interactive tables.';\n",
              "        element.innerHTML = '';\n",
              "        dataTable['output_type'] = 'display_data';\n",
              "        await google.colab.output.renderOutput(dataTable, element);\n",
              "        const docLink = document.createElement('div');\n",
              "        docLink.innerHTML = docLinkHtml;\n",
              "        element.appendChild(docLink);\n",
              "      }\n",
              "    </script>\n",
              "  </div>\n",
              "\n",
              "\n",
              "    <div id=\"df-16d1197c-7b7d-4a7c-be85-0b274015d900\">\n",
              "      <button class=\"colab-df-quickchart\" onclick=\"quickchart('df-16d1197c-7b7d-4a7c-be85-0b274015d900')\"\n",
              "                title=\"Suggest charts\"\n",
              "                style=\"display:none;\">\n",
              "\n",
              "<svg xmlns=\"http://www.w3.org/2000/svg\" height=\"24px\"viewBox=\"0 0 24 24\"\n",
              "     width=\"24px\">\n",
              "    <g>\n",
              "        <path d=\"M19 3H5c-1.1 0-2 .9-2 2v14c0 1.1.9 2 2 2h14c1.1 0 2-.9 2-2V5c0-1.1-.9-2-2-2zM9 17H7v-7h2v7zm4 0h-2V7h2v10zm4 0h-2v-4h2v4z\"/>\n",
              "    </g>\n",
              "</svg>\n",
              "      </button>\n",
              "\n",
              "<style>\n",
              "  .colab-df-quickchart {\n",
              "      --bg-color: #E8F0FE;\n",
              "      --fill-color: #1967D2;\n",
              "      --hover-bg-color: #E2EBFA;\n",
              "      --hover-fill-color: #174EA6;\n",
              "      --disabled-fill-color: #AAA;\n",
              "      --disabled-bg-color: #DDD;\n",
              "  }\n",
              "\n",
              "  [theme=dark] .colab-df-quickchart {\n",
              "      --bg-color: #3B4455;\n",
              "      --fill-color: #D2E3FC;\n",
              "      --hover-bg-color: #434B5C;\n",
              "      --hover-fill-color: #FFFFFF;\n",
              "      --disabled-bg-color: #3B4455;\n",
              "      --disabled-fill-color: #666;\n",
              "  }\n",
              "\n",
              "  .colab-df-quickchart {\n",
              "    background-color: var(--bg-color);\n",
              "    border: none;\n",
              "    border-radius: 50%;\n",
              "    cursor: pointer;\n",
              "    display: none;\n",
              "    fill: var(--fill-color);\n",
              "    height: 32px;\n",
              "    padding: 0;\n",
              "    width: 32px;\n",
              "  }\n",
              "\n",
              "  .colab-df-quickchart:hover {\n",
              "    background-color: var(--hover-bg-color);\n",
              "    box-shadow: 0 1px 2px rgba(60, 64, 67, 0.3), 0 1px 3px 1px rgba(60, 64, 67, 0.15);\n",
              "    fill: var(--button-hover-fill-color);\n",
              "  }\n",
              "\n",
              "  .colab-df-quickchart-complete:disabled,\n",
              "  .colab-df-quickchart-complete:disabled:hover {\n",
              "    background-color: var(--disabled-bg-color);\n",
              "    fill: var(--disabled-fill-color);\n",
              "    box-shadow: none;\n",
              "  }\n",
              "\n",
              "  .colab-df-spinner {\n",
              "    border: 2px solid var(--fill-color);\n",
              "    border-color: transparent;\n",
              "    border-bottom-color: var(--fill-color);\n",
              "    animation:\n",
              "      spin 1s steps(1) infinite;\n",
              "  }\n",
              "\n",
              "  @keyframes spin {\n",
              "    0% {\n",
              "      border-color: transparent;\n",
              "      border-bottom-color: var(--fill-color);\n",
              "      border-left-color: var(--fill-color);\n",
              "    }\n",
              "    20% {\n",
              "      border-color: transparent;\n",
              "      border-left-color: var(--fill-color);\n",
              "      border-top-color: var(--fill-color);\n",
              "    }\n",
              "    30% {\n",
              "      border-color: transparent;\n",
              "      border-left-color: var(--fill-color);\n",
              "      border-top-color: var(--fill-color);\n",
              "      border-right-color: var(--fill-color);\n",
              "    }\n",
              "    40% {\n",
              "      border-color: transparent;\n",
              "      border-right-color: var(--fill-color);\n",
              "      border-top-color: var(--fill-color);\n",
              "    }\n",
              "    60% {\n",
              "      border-color: transparent;\n",
              "      border-right-color: var(--fill-color);\n",
              "    }\n",
              "    80% {\n",
              "      border-color: transparent;\n",
              "      border-right-color: var(--fill-color);\n",
              "      border-bottom-color: var(--fill-color);\n",
              "    }\n",
              "    90% {\n",
              "      border-color: transparent;\n",
              "      border-bottom-color: var(--fill-color);\n",
              "    }\n",
              "  }\n",
              "</style>\n",
              "\n",
              "      <script>\n",
              "        async function quickchart(key) {\n",
              "          const quickchartButtonEl =\n",
              "            document.querySelector('#' + key + ' button');\n",
              "          quickchartButtonEl.disabled = true;  // To prevent multiple clicks.\n",
              "          quickchartButtonEl.classList.add('colab-df-spinner');\n",
              "          try {\n",
              "            const charts = await google.colab.kernel.invokeFunction(\n",
              "                'suggestCharts', [key], {});\n",
              "          } catch (error) {\n",
              "            console.error('Error during call to suggestCharts:', error);\n",
              "          }\n",
              "          quickchartButtonEl.classList.remove('colab-df-spinner');\n",
              "          quickchartButtonEl.classList.add('colab-df-quickchart-complete');\n",
              "        }\n",
              "        (() => {\n",
              "          let quickchartButtonEl =\n",
              "            document.querySelector('#df-16d1197c-7b7d-4a7c-be85-0b274015d900 button');\n",
              "          quickchartButtonEl.style.display =\n",
              "            google.colab.kernel.accessAllowed ? 'block' : 'none';\n",
              "        })();\n",
              "      </script>\n",
              "    </div>\n",
              "\n",
              "    </div>\n",
              "  </div>\n"
            ],
            "application/vnd.google.colaboratory.intrinsic+json": {
              "type": "dataframe",
              "summary": "{\n  \"name\": \"display(df_categorical\",\n  \"rows\": 5,\n  \"fields\": [\n    {\n      \"column\": \"calle_principal\",\n      \"properties\": {\n        \"dtype\": \"category\",\n        \"num_unique_values\": 1,\n        \"samples\": [\n          \"yes\"\n        ],\n        \"semantic_type\": \"\",\n        \"description\": \"\"\n      }\n    },\n    {\n      \"column\": \"cuarto_invitados\",\n      \"properties\": {\n        \"dtype\": \"category\",\n        \"num_unique_values\": 2,\n        \"samples\": [\n          \"yes\"\n        ],\n        \"semantic_type\": \"\",\n        \"description\": \"\"\n      }\n    },\n    {\n      \"column\": \"sotano\",\n      \"properties\": {\n        \"dtype\": \"category\",\n        \"num_unique_values\": 2,\n        \"samples\": [\n          \"yes\"\n        ],\n        \"semantic_type\": \"\",\n        \"description\": \"\"\n      }\n    },\n    {\n      \"column\": \"calefaccion_agua\",\n      \"properties\": {\n        \"dtype\": \"category\",\n        \"num_unique_values\": 1,\n        \"samples\": [\n          \"no\"\n        ],\n        \"semantic_type\": \"\",\n        \"description\": \"\"\n      }\n    },\n    {\n      \"column\": \"aire_acondicionado\",\n      \"properties\": {\n        \"dtype\": \"category\",\n        \"num_unique_values\": 2,\n        \"samples\": [\n          \"no\"\n        ],\n        \"semantic_type\": \"\",\n        \"description\": \"\"\n      }\n    },\n    {\n      \"column\": \"area_preferida\",\n      \"properties\": {\n        \"dtype\": \"category\",\n        \"num_unique_values\": 2,\n        \"samples\": [\n          \"no\"\n        ],\n        \"semantic_type\": \"\",\n        \"description\": \"\"\n      }\n    },\n    {\n      \"column\": \"estado_amueblado\",\n      \"properties\": {\n        \"dtype\": \"category\",\n        \"num_unique_values\": 2,\n        \"samples\": [\n          \"semi-furnished\"\n        ],\n        \"semantic_type\": \"\",\n        \"description\": \"\"\n      }\n    }\n  ]\n}"
            }
          },
          "metadata": {}
        }
      ],
      "source": [
        "# ya con las variables categoricas extraidas en df_categorical, podemos mostrar el head de solo estas\n",
        "display(df_categorical.head())"
      ]
    },
    {
      "cell_type": "markdown",
      "id": "652617d2",
      "metadata": {
        "id": "652617d2"
      },
      "source": [
        "**Justificación técnica:** Describe aquí tu interpretación del resultado."
      ]
    },
    {
      "cell_type": "markdown",
      "id": "d2d1c917",
      "metadata": {
        "id": "d2d1c917"
      },
      "source": [
        "###  Tarea: Mostrar un resumen estadístico de las variables categóricas del DataFrame Esto incluye: cantidad de valores no nulos, número de categorías únicas, valor más frecuente (top) y frecuencia de ese valor."
      ]
    },
    {
      "cell_type": "code",
      "execution_count": 16,
      "id": "31b0209a",
      "metadata": {
        "id": "31b0209a",
        "colab": {
          "base_uri": "https://localhost:8080/",
          "height": 175
        },
        "outputId": "2cf47c3c-560e-48c7-d383-ceb517149f2f"
      },
      "outputs": [
        {
          "output_type": "display_data",
          "data": {
            "text/plain": [
              "       calle_principal cuarto_invitados sotano calefaccion_agua  \\\n",
              "count              545              545    545              545   \n",
              "unique               2                2      2                2   \n",
              "top                yes               no     no               no   \n",
              "freq               468              448    354              520   \n",
              "\n",
              "       aire_acondicionado area_preferida estado_amueblado  \n",
              "count                 545            545              545  \n",
              "unique                  2              2                3  \n",
              "top                    no             no   semi-furnished  \n",
              "freq                  373            418              227  "
            ],
            "text/html": [
              "\n",
              "  <div id=\"df-6d7b65d2-026b-4c75-b8de-ffbf6a68ea2b\" class=\"colab-df-container\">\n",
              "    <div>\n",
              "<style scoped>\n",
              "    .dataframe tbody tr th:only-of-type {\n",
              "        vertical-align: middle;\n",
              "    }\n",
              "\n",
              "    .dataframe tbody tr th {\n",
              "        vertical-align: top;\n",
              "    }\n",
              "\n",
              "    .dataframe thead th {\n",
              "        text-align: right;\n",
              "    }\n",
              "</style>\n",
              "<table border=\"1\" class=\"dataframe\">\n",
              "  <thead>\n",
              "    <tr style=\"text-align: right;\">\n",
              "      <th></th>\n",
              "      <th>calle_principal</th>\n",
              "      <th>cuarto_invitados</th>\n",
              "      <th>sotano</th>\n",
              "      <th>calefaccion_agua</th>\n",
              "      <th>aire_acondicionado</th>\n",
              "      <th>area_preferida</th>\n",
              "      <th>estado_amueblado</th>\n",
              "    </tr>\n",
              "  </thead>\n",
              "  <tbody>\n",
              "    <tr>\n",
              "      <th>count</th>\n",
              "      <td>545</td>\n",
              "      <td>545</td>\n",
              "      <td>545</td>\n",
              "      <td>545</td>\n",
              "      <td>545</td>\n",
              "      <td>545</td>\n",
              "      <td>545</td>\n",
              "    </tr>\n",
              "    <tr>\n",
              "      <th>unique</th>\n",
              "      <td>2</td>\n",
              "      <td>2</td>\n",
              "      <td>2</td>\n",
              "      <td>2</td>\n",
              "      <td>2</td>\n",
              "      <td>2</td>\n",
              "      <td>3</td>\n",
              "    </tr>\n",
              "    <tr>\n",
              "      <th>top</th>\n",
              "      <td>yes</td>\n",
              "      <td>no</td>\n",
              "      <td>no</td>\n",
              "      <td>no</td>\n",
              "      <td>no</td>\n",
              "      <td>no</td>\n",
              "      <td>semi-furnished</td>\n",
              "    </tr>\n",
              "    <tr>\n",
              "      <th>freq</th>\n",
              "      <td>468</td>\n",
              "      <td>448</td>\n",
              "      <td>354</td>\n",
              "      <td>520</td>\n",
              "      <td>373</td>\n",
              "      <td>418</td>\n",
              "      <td>227</td>\n",
              "    </tr>\n",
              "  </tbody>\n",
              "</table>\n",
              "</div>\n",
              "    <div class=\"colab-df-buttons\">\n",
              "\n",
              "  <div class=\"colab-df-container\">\n",
              "    <button class=\"colab-df-convert\" onclick=\"convertToInteractive('df-6d7b65d2-026b-4c75-b8de-ffbf6a68ea2b')\"\n",
              "            title=\"Convert this dataframe to an interactive table.\"\n",
              "            style=\"display:none;\">\n",
              "\n",
              "  <svg xmlns=\"http://www.w3.org/2000/svg\" height=\"24px\" viewBox=\"0 -960 960 960\">\n",
              "    <path d=\"M120-120v-720h720v720H120Zm60-500h600v-160H180v160Zm220 220h160v-160H400v160Zm0 220h160v-160H400v160ZM180-400h160v-160H180v160Zm440 0h160v-160H620v160ZM180-180h160v-160H180v160Zm440 0h160v-160H620v160Z\"/>\n",
              "  </svg>\n",
              "    </button>\n",
              "\n",
              "  <style>\n",
              "    .colab-df-container {\n",
              "      display:flex;\n",
              "      gap: 12px;\n",
              "    }\n",
              "\n",
              "    .colab-df-convert {\n",
              "      background-color: #E8F0FE;\n",
              "      border: none;\n",
              "      border-radius: 50%;\n",
              "      cursor: pointer;\n",
              "      display: none;\n",
              "      fill: #1967D2;\n",
              "      height: 32px;\n",
              "      padding: 0 0 0 0;\n",
              "      width: 32px;\n",
              "    }\n",
              "\n",
              "    .colab-df-convert:hover {\n",
              "      background-color: #E2EBFA;\n",
              "      box-shadow: 0px 1px 2px rgba(60, 64, 67, 0.3), 0px 1px 3px 1px rgba(60, 64, 67, 0.15);\n",
              "      fill: #174EA6;\n",
              "    }\n",
              "\n",
              "    .colab-df-buttons div {\n",
              "      margin-bottom: 4px;\n",
              "    }\n",
              "\n",
              "    [theme=dark] .colab-df-convert {\n",
              "      background-color: #3B4455;\n",
              "      fill: #D2E3FC;\n",
              "    }\n",
              "\n",
              "    [theme=dark] .colab-df-convert:hover {\n",
              "      background-color: #434B5C;\n",
              "      box-shadow: 0px 1px 3px 1px rgba(0, 0, 0, 0.15);\n",
              "      filter: drop-shadow(0px 1px 2px rgba(0, 0, 0, 0.3));\n",
              "      fill: #FFFFFF;\n",
              "    }\n",
              "  </style>\n",
              "\n",
              "    <script>\n",
              "      const buttonEl =\n",
              "        document.querySelector('#df-6d7b65d2-026b-4c75-b8de-ffbf6a68ea2b button.colab-df-convert');\n",
              "      buttonEl.style.display =\n",
              "        google.colab.kernel.accessAllowed ? 'block' : 'none';\n",
              "\n",
              "      async function convertToInteractive(key) {\n",
              "        const element = document.querySelector('#df-6d7b65d2-026b-4c75-b8de-ffbf6a68ea2b');\n",
              "        const dataTable =\n",
              "          await google.colab.kernel.invokeFunction('convertToInteractive',\n",
              "                                                    [key], {});\n",
              "        if (!dataTable) return;\n",
              "\n",
              "        const docLinkHtml = 'Like what you see? Visit the ' +\n",
              "          '<a target=\"_blank\" href=https://colab.research.google.com/notebooks/data_table.ipynb>data table notebook</a>'\n",
              "          + ' to learn more about interactive tables.';\n",
              "        element.innerHTML = '';\n",
              "        dataTable['output_type'] = 'display_data';\n",
              "        await google.colab.output.renderOutput(dataTable, element);\n",
              "        const docLink = document.createElement('div');\n",
              "        docLink.innerHTML = docLinkHtml;\n",
              "        element.appendChild(docLink);\n",
              "      }\n",
              "    </script>\n",
              "  </div>\n",
              "\n",
              "\n",
              "    <div id=\"df-eb3b5ddf-1910-4351-accf-786814031f78\">\n",
              "      <button class=\"colab-df-quickchart\" onclick=\"quickchart('df-eb3b5ddf-1910-4351-accf-786814031f78')\"\n",
              "                title=\"Suggest charts\"\n",
              "                style=\"display:none;\">\n",
              "\n",
              "<svg xmlns=\"http://www.w3.org/2000/svg\" height=\"24px\"viewBox=\"0 0 24 24\"\n",
              "     width=\"24px\">\n",
              "    <g>\n",
              "        <path d=\"M19 3H5c-1.1 0-2 .9-2 2v14c0 1.1.9 2 2 2h14c1.1 0 2-.9 2-2V5c0-1.1-.9-2-2-2zM9 17H7v-7h2v7zm4 0h-2V7h2v10zm4 0h-2v-4h2v4z\"/>\n",
              "    </g>\n",
              "</svg>\n",
              "      </button>\n",
              "\n",
              "<style>\n",
              "  .colab-df-quickchart {\n",
              "      --bg-color: #E8F0FE;\n",
              "      --fill-color: #1967D2;\n",
              "      --hover-bg-color: #E2EBFA;\n",
              "      --hover-fill-color: #174EA6;\n",
              "      --disabled-fill-color: #AAA;\n",
              "      --disabled-bg-color: #DDD;\n",
              "  }\n",
              "\n",
              "  [theme=dark] .colab-df-quickchart {\n",
              "      --bg-color: #3B4455;\n",
              "      --fill-color: #D2E3FC;\n",
              "      --hover-bg-color: #434B5C;\n",
              "      --hover-fill-color: #FFFFFF;\n",
              "      --disabled-bg-color: #3B4455;\n",
              "      --disabled-fill-color: #666;\n",
              "  }\n",
              "\n",
              "  .colab-df-quickchart {\n",
              "    background-color: var(--bg-color);\n",
              "    border: none;\n",
              "    border-radius: 50%;\n",
              "    cursor: pointer;\n",
              "    display: none;\n",
              "    fill: var(--fill-color);\n",
              "    height: 32px;\n",
              "    padding: 0;\n",
              "    width: 32px;\n",
              "  }\n",
              "\n",
              "  .colab-df-quickchart:hover {\n",
              "    background-color: var(--hover-bg-color);\n",
              "    box-shadow: 0 1px 2px rgba(60, 64, 67, 0.3), 0 1px 3px 1px rgba(60, 64, 67, 0.15);\n",
              "    fill: var(--button-hover-fill-color);\n",
              "  }\n",
              "\n",
              "  .colab-df-quickchart-complete:disabled,\n",
              "  .colab-df-quickchart-complete:disabled:hover {\n",
              "    background-color: var(--disabled-bg-color);\n",
              "    fill: var(--disabled-fill-color);\n",
              "    box-shadow: none;\n",
              "  }\n",
              "\n",
              "  .colab-df-spinner {\n",
              "    border: 2px solid var(--fill-color);\n",
              "    border-color: transparent;\n",
              "    border-bottom-color: var(--fill-color);\n",
              "    animation:\n",
              "      spin 1s steps(1) infinite;\n",
              "  }\n",
              "\n",
              "  @keyframes spin {\n",
              "    0% {\n",
              "      border-color: transparent;\n",
              "      border-bottom-color: var(--fill-color);\n",
              "      border-left-color: var(--fill-color);\n",
              "    }\n",
              "    20% {\n",
              "      border-color: transparent;\n",
              "      border-left-color: var(--fill-color);\n",
              "      border-top-color: var(--fill-color);\n",
              "    }\n",
              "    30% {\n",
              "      border-color: transparent;\n",
              "      border-left-color: var(--fill-color);\n",
              "      border-top-color: var(--fill-color);\n",
              "      border-right-color: var(--fill-color);\n",
              "    }\n",
              "    40% {\n",
              "      border-color: transparent;\n",
              "      border-right-color: var(--fill-color);\n",
              "      border-top-color: var(--fill-color);\n",
              "    }\n",
              "    60% {\n",
              "      border-color: transparent;\n",
              "      border-right-color: var(--fill-color);\n",
              "    }\n",
              "    80% {\n",
              "      border-color: transparent;\n",
              "      border-right-color: var(--fill-color);\n",
              "      border-bottom-color: var(--fill-color);\n",
              "    }\n",
              "    90% {\n",
              "      border-color: transparent;\n",
              "      border-bottom-color: var(--fill-color);\n",
              "    }\n",
              "  }\n",
              "</style>\n",
              "\n",
              "      <script>\n",
              "        async function quickchart(key) {\n",
              "          const quickchartButtonEl =\n",
              "            document.querySelector('#' + key + ' button');\n",
              "          quickchartButtonEl.disabled = true;  // To prevent multiple clicks.\n",
              "          quickchartButtonEl.classList.add('colab-df-spinner');\n",
              "          try {\n",
              "            const charts = await google.colab.kernel.invokeFunction(\n",
              "                'suggestCharts', [key], {});\n",
              "          } catch (error) {\n",
              "            console.error('Error during call to suggestCharts:', error);\n",
              "          }\n",
              "          quickchartButtonEl.classList.remove('colab-df-spinner');\n",
              "          quickchartButtonEl.classList.add('colab-df-quickchart-complete');\n",
              "        }\n",
              "        (() => {\n",
              "          let quickchartButtonEl =\n",
              "            document.querySelector('#df-eb3b5ddf-1910-4351-accf-786814031f78 button');\n",
              "          quickchartButtonEl.style.display =\n",
              "            google.colab.kernel.accessAllowed ? 'block' : 'none';\n",
              "        })();\n",
              "      </script>\n",
              "    </div>\n",
              "\n",
              "    </div>\n",
              "  </div>\n"
            ],
            "application/vnd.google.colaboratory.intrinsic+json": {
              "type": "dataframe",
              "summary": "{\n  \"name\": \"display(df_categorical\",\n  \"rows\": 4,\n  \"fields\": [\n    {\n      \"column\": \"calle_principal\",\n      \"properties\": {\n        \"dtype\": \"string\",\n        \"num_unique_values\": 4,\n        \"samples\": [\n          2,\n          \"468\",\n          \"545\"\n        ],\n        \"semantic_type\": \"\",\n        \"description\": \"\"\n      }\n    },\n    {\n      \"column\": \"cuarto_invitados\",\n      \"properties\": {\n        \"dtype\": \"string\",\n        \"num_unique_values\": 4,\n        \"samples\": [\n          2,\n          \"448\",\n          \"545\"\n        ],\n        \"semantic_type\": \"\",\n        \"description\": \"\"\n      }\n    },\n    {\n      \"column\": \"sotano\",\n      \"properties\": {\n        \"dtype\": \"string\",\n        \"num_unique_values\": 4,\n        \"samples\": [\n          2,\n          \"354\",\n          \"545\"\n        ],\n        \"semantic_type\": \"\",\n        \"description\": \"\"\n      }\n    },\n    {\n      \"column\": \"calefaccion_agua\",\n      \"properties\": {\n        \"dtype\": \"string\",\n        \"num_unique_values\": 4,\n        \"samples\": [\n          2,\n          \"520\",\n          \"545\"\n        ],\n        \"semantic_type\": \"\",\n        \"description\": \"\"\n      }\n    },\n    {\n      \"column\": \"aire_acondicionado\",\n      \"properties\": {\n        \"dtype\": \"string\",\n        \"num_unique_values\": 4,\n        \"samples\": [\n          2,\n          \"373\",\n          \"545\"\n        ],\n        \"semantic_type\": \"\",\n        \"description\": \"\"\n      }\n    },\n    {\n      \"column\": \"area_preferida\",\n      \"properties\": {\n        \"dtype\": \"string\",\n        \"num_unique_values\": 4,\n        \"samples\": [\n          2,\n          \"418\",\n          \"545\"\n        ],\n        \"semantic_type\": \"\",\n        \"description\": \"\"\n      }\n    },\n    {\n      \"column\": \"estado_amueblado\",\n      \"properties\": {\n        \"dtype\": \"string\",\n        \"num_unique_values\": 4,\n        \"samples\": [\n          3,\n          \"227\",\n          \"545\"\n        ],\n        \"semantic_type\": \"\",\n        \"description\": \"\"\n      }\n    }\n  ]\n}"
            }
          },
          "metadata": {}
        }
      ],
      "source": [
        "# volvemos a usar el .describe para que nos de un resumen del df, solo que ahora es unicamente de las variables categoricas\n",
        "display(df_categorical.describe())"
      ]
    },
    {
      "cell_type": "markdown",
      "id": "6972d832",
      "metadata": {
        "id": "6972d832"
      },
      "source": [
        " **Justificación técnica:** Describe aquí tu interpretación del resultado."
      ]
    },
    {
      "cell_type": "markdown",
      "id": "8bcfad72",
      "metadata": {
        "id": "8bcfad72"
      },
      "source": [
        "### Tarea: Verificar la cantidad de valores únicos en cada columna (cardinalidad de cada variable)"
      ]
    },
    {
      "cell_type": "code",
      "execution_count": 17,
      "id": "8d50ab2d",
      "metadata": {
        "id": "8d50ab2d",
        "colab": {
          "base_uri": "https://localhost:8080/",
          "height": 492
        },
        "outputId": "c556160f-23df-44b4-c813-c7a3f3b5a824"
      },
      "outputs": [
        {
          "output_type": "display_data",
          "data": {
            "text/plain": [
              "precio                219\n",
              "area                  284\n",
              "habitaciones            6\n",
              "banos                   4\n",
              "pisos                   4\n",
              "calle_principal         2\n",
              "cuarto_invitados        2\n",
              "sotano                  2\n",
              "calefaccion_agua        2\n",
              "aire_acondicionado      2\n",
              "estacionamiento         4\n",
              "area_preferida          2\n",
              "estado_amueblado        3\n",
              "dtype: int64"
            ],
            "text/html": [
              "<div>\n",
              "<style scoped>\n",
              "    .dataframe tbody tr th:only-of-type {\n",
              "        vertical-align: middle;\n",
              "    }\n",
              "\n",
              "    .dataframe tbody tr th {\n",
              "        vertical-align: top;\n",
              "    }\n",
              "\n",
              "    .dataframe thead th {\n",
              "        text-align: right;\n",
              "    }\n",
              "</style>\n",
              "<table border=\"1\" class=\"dataframe\">\n",
              "  <thead>\n",
              "    <tr style=\"text-align: right;\">\n",
              "      <th></th>\n",
              "      <th>0</th>\n",
              "    </tr>\n",
              "  </thead>\n",
              "  <tbody>\n",
              "    <tr>\n",
              "      <th>precio</th>\n",
              "      <td>219</td>\n",
              "    </tr>\n",
              "    <tr>\n",
              "      <th>area</th>\n",
              "      <td>284</td>\n",
              "    </tr>\n",
              "    <tr>\n",
              "      <th>habitaciones</th>\n",
              "      <td>6</td>\n",
              "    </tr>\n",
              "    <tr>\n",
              "      <th>banos</th>\n",
              "      <td>4</td>\n",
              "    </tr>\n",
              "    <tr>\n",
              "      <th>pisos</th>\n",
              "      <td>4</td>\n",
              "    </tr>\n",
              "    <tr>\n",
              "      <th>calle_principal</th>\n",
              "      <td>2</td>\n",
              "    </tr>\n",
              "    <tr>\n",
              "      <th>cuarto_invitados</th>\n",
              "      <td>2</td>\n",
              "    </tr>\n",
              "    <tr>\n",
              "      <th>sotano</th>\n",
              "      <td>2</td>\n",
              "    </tr>\n",
              "    <tr>\n",
              "      <th>calefaccion_agua</th>\n",
              "      <td>2</td>\n",
              "    </tr>\n",
              "    <tr>\n",
              "      <th>aire_acondicionado</th>\n",
              "      <td>2</td>\n",
              "    </tr>\n",
              "    <tr>\n",
              "      <th>estacionamiento</th>\n",
              "      <td>4</td>\n",
              "    </tr>\n",
              "    <tr>\n",
              "      <th>area_preferida</th>\n",
              "      <td>2</td>\n",
              "    </tr>\n",
              "    <tr>\n",
              "      <th>estado_amueblado</th>\n",
              "      <td>3</td>\n",
              "    </tr>\n",
              "  </tbody>\n",
              "</table>\n",
              "</div><br><label><b>dtype:</b> int64</label>"
            ]
          },
          "metadata": {}
        }
      ],
      "source": [
        "\n",
        "# Verificamos el numero de valores unicos de cada feature de todo el df\n",
        "display(df.nunique())"
      ]
    },
    {
      "cell_type": "markdown",
      "id": "acc3f517",
      "metadata": {
        "id": "acc3f517"
      },
      "source": [
        "**Justificación técnica:** Describe aquí tu interpretación del resultado."
      ]
    },
    {
      "cell_type": "markdown",
      "id": "99940750",
      "metadata": {
        "id": "99940750"
      },
      "source": [
        "###  Tarea: Seleccionar todas las columnas excepto 'precio' y 'area'\n",
        "- Mostrar los valores únicos de cada columna seleccionada"
      ]
    },
    {
      "cell_type": "code",
      "execution_count": 18,
      "id": "8b777c01",
      "metadata": {
        "id": "8b777c01",
        "colab": {
          "base_uri": "https://localhost:8080/",
          "height": 399
        },
        "outputId": "810189b0-2d2f-434b-adf9-3af244911c4f"
      },
      "outputs": [
        {
          "output_type": "stream",
          "name": "stdout",
          "text": [
            "Unique values in 'habitaciones':\n"
          ]
        },
        {
          "output_type": "display_data",
          "data": {
            "text/plain": [
              "array([4., 3., 5., 2., 6., 1.])"
            ]
          },
          "metadata": {}
        },
        {
          "output_type": "stream",
          "name": "stdout",
          "text": [
            "Unique values in 'banos':\n"
          ]
        },
        {
          "output_type": "display_data",
          "data": {
            "text/plain": [
              "array([2., 4., 1., 3.])"
            ]
          },
          "metadata": {}
        },
        {
          "output_type": "stream",
          "name": "stdout",
          "text": [
            "Unique values in 'pisos':\n"
          ]
        },
        {
          "output_type": "display_data",
          "data": {
            "text/plain": [
              "array([3., 4., 2., 1.])"
            ]
          },
          "metadata": {}
        },
        {
          "output_type": "stream",
          "name": "stdout",
          "text": [
            "Unique values in 'calle_principal':\n"
          ]
        },
        {
          "output_type": "display_data",
          "data": {
            "text/plain": [
              "array(['yes', 'no'], dtype=object)"
            ]
          },
          "metadata": {}
        },
        {
          "output_type": "stream",
          "name": "stdout",
          "text": [
            "Unique values in 'cuarto_invitados':\n"
          ]
        },
        {
          "output_type": "display_data",
          "data": {
            "text/plain": [
              "array(['no', 'yes'], dtype=object)"
            ]
          },
          "metadata": {}
        },
        {
          "output_type": "stream",
          "name": "stdout",
          "text": [
            "Unique values in 'sotano':\n"
          ]
        },
        {
          "output_type": "display_data",
          "data": {
            "text/plain": [
              "array(['no', 'yes'], dtype=object)"
            ]
          },
          "metadata": {}
        },
        {
          "output_type": "stream",
          "name": "stdout",
          "text": [
            "Unique values in 'calefaccion_agua':\n"
          ]
        },
        {
          "output_type": "display_data",
          "data": {
            "text/plain": [
              "array(['no', 'yes'], dtype=object)"
            ]
          },
          "metadata": {}
        },
        {
          "output_type": "stream",
          "name": "stdout",
          "text": [
            "Unique values in 'aire_acondicionado':\n"
          ]
        },
        {
          "output_type": "display_data",
          "data": {
            "text/plain": [
              "array(['yes', 'no'], dtype=object)"
            ]
          },
          "metadata": {}
        },
        {
          "output_type": "stream",
          "name": "stdout",
          "text": [
            "Unique values in 'estacionamiento':\n"
          ]
        },
        {
          "output_type": "display_data",
          "data": {
            "text/plain": [
              "array([2, 3, 0, 1])"
            ]
          },
          "metadata": {}
        },
        {
          "output_type": "stream",
          "name": "stdout",
          "text": [
            "Unique values in 'area_preferida':\n"
          ]
        },
        {
          "output_type": "display_data",
          "data": {
            "text/plain": [
              "array(['yes', 'no'], dtype=object)"
            ]
          },
          "metadata": {}
        },
        {
          "output_type": "stream",
          "name": "stdout",
          "text": [
            "Unique values in 'estado_amueblado':\n"
          ]
        },
        {
          "output_type": "display_data",
          "data": {
            "text/plain": [
              "array(['furnished', 'semi-furnished', 'unfurnished'], dtype=object)"
            ]
          },
          "metadata": {}
        }
      ],
      "source": [
        "# Escogemos todas las columnas (col) y con el if col no it hacemos la excepcion, asi no es escoge ni precio ni area\n",
        "cols_to_check = [col for col in df.columns if col not in ['precio', 'area']]\n",
        "\n",
        "# volvemos a mostrar los valores unicos ahora en estas nuevas columnas que estan sin precio ni area\n",
        "for col in cols_to_check:\n",
        "    print(f\"Unique values in '{col}':\")\n",
        "    display(df[col].unique())"
      ]
    },
    {
      "cell_type": "markdown",
      "id": "13259629",
      "metadata": {
        "id": "13259629"
      },
      "source": [
        " **Justificación técnica:** Describe aquí tu interpretación del resultado."
      ]
    },
    {
      "cell_type": "markdown",
      "id": "53d7e5c8",
      "metadata": {
        "id": "53d7e5c8"
      },
      "source": [
        "###  Tarea: Seleccionar todas las columnas excepto 'precio' y 'area'\n",
        "- Mostrar la distribución de frecuencias de cada columna seleccionada"
      ]
    },
    {
      "cell_type": "code",
      "execution_count": 19,
      "id": "ca1fc694",
      "metadata": {
        "id": "ca1fc694",
        "colab": {
          "base_uri": "https://localhost:8080/",
          "height": 1000
        },
        "outputId": "bf694456-bda8-46ca-8826-e40e7960bd3b"
      },
      "outputs": [
        {
          "output_type": "stream",
          "name": "stdout",
          "text": [
            "Frequency distribution for 'habitaciones':\n"
          ]
        },
        {
          "output_type": "display_data",
          "data": {
            "text/plain": [
              "habitaciones\n",
              "3.0    300\n",
              "2.0    136\n",
              "4.0     95\n",
              "5.0     10\n",
              "6.0      2\n",
              "1.0      2\n",
              "Name: count, dtype: int64"
            ],
            "text/html": [
              "<div>\n",
              "<style scoped>\n",
              "    .dataframe tbody tr th:only-of-type {\n",
              "        vertical-align: middle;\n",
              "    }\n",
              "\n",
              "    .dataframe tbody tr th {\n",
              "        vertical-align: top;\n",
              "    }\n",
              "\n",
              "    .dataframe thead th {\n",
              "        text-align: right;\n",
              "    }\n",
              "</style>\n",
              "<table border=\"1\" class=\"dataframe\">\n",
              "  <thead>\n",
              "    <tr style=\"text-align: right;\">\n",
              "      <th></th>\n",
              "      <th>count</th>\n",
              "    </tr>\n",
              "    <tr>\n",
              "      <th>habitaciones</th>\n",
              "      <th></th>\n",
              "    </tr>\n",
              "  </thead>\n",
              "  <tbody>\n",
              "    <tr>\n",
              "      <th>3.0</th>\n",
              "      <td>300</td>\n",
              "    </tr>\n",
              "    <tr>\n",
              "      <th>2.0</th>\n",
              "      <td>136</td>\n",
              "    </tr>\n",
              "    <tr>\n",
              "      <th>4.0</th>\n",
              "      <td>95</td>\n",
              "    </tr>\n",
              "    <tr>\n",
              "      <th>5.0</th>\n",
              "      <td>10</td>\n",
              "    </tr>\n",
              "    <tr>\n",
              "      <th>6.0</th>\n",
              "      <td>2</td>\n",
              "    </tr>\n",
              "    <tr>\n",
              "      <th>1.0</th>\n",
              "      <td>2</td>\n",
              "    </tr>\n",
              "  </tbody>\n",
              "</table>\n",
              "</div><br><label><b>dtype:</b> int64</label>"
            ]
          },
          "metadata": {}
        },
        {
          "output_type": "stream",
          "name": "stdout",
          "text": [
            "------------------------------\n",
            "Frequency distribution for 'banos':\n"
          ]
        },
        {
          "output_type": "display_data",
          "data": {
            "text/plain": [
              "banos\n",
              "1.0    402\n",
              "2.0    132\n",
              "3.0     10\n",
              "4.0      1\n",
              "Name: count, dtype: int64"
            ],
            "text/html": [
              "<div>\n",
              "<style scoped>\n",
              "    .dataframe tbody tr th:only-of-type {\n",
              "        vertical-align: middle;\n",
              "    }\n",
              "\n",
              "    .dataframe tbody tr th {\n",
              "        vertical-align: top;\n",
              "    }\n",
              "\n",
              "    .dataframe thead th {\n",
              "        text-align: right;\n",
              "    }\n",
              "</style>\n",
              "<table border=\"1\" class=\"dataframe\">\n",
              "  <thead>\n",
              "    <tr style=\"text-align: right;\">\n",
              "      <th></th>\n",
              "      <th>count</th>\n",
              "    </tr>\n",
              "    <tr>\n",
              "      <th>banos</th>\n",
              "      <th></th>\n",
              "    </tr>\n",
              "  </thead>\n",
              "  <tbody>\n",
              "    <tr>\n",
              "      <th>1.0</th>\n",
              "      <td>402</td>\n",
              "    </tr>\n",
              "    <tr>\n",
              "      <th>2.0</th>\n",
              "      <td>132</td>\n",
              "    </tr>\n",
              "    <tr>\n",
              "      <th>3.0</th>\n",
              "      <td>10</td>\n",
              "    </tr>\n",
              "    <tr>\n",
              "      <th>4.0</th>\n",
              "      <td>1</td>\n",
              "    </tr>\n",
              "  </tbody>\n",
              "</table>\n",
              "</div><br><label><b>dtype:</b> int64</label>"
            ]
          },
          "metadata": {}
        },
        {
          "output_type": "stream",
          "name": "stdout",
          "text": [
            "------------------------------\n",
            "Frequency distribution for 'pisos':\n"
          ]
        },
        {
          "output_type": "display_data",
          "data": {
            "text/plain": [
              "pisos\n",
              "2.0    237\n",
              "1.0    227\n",
              "4.0     41\n",
              "3.0     40\n",
              "Name: count, dtype: int64"
            ],
            "text/html": [
              "<div>\n",
              "<style scoped>\n",
              "    .dataframe tbody tr th:only-of-type {\n",
              "        vertical-align: middle;\n",
              "    }\n",
              "\n",
              "    .dataframe tbody tr th {\n",
              "        vertical-align: top;\n",
              "    }\n",
              "\n",
              "    .dataframe thead th {\n",
              "        text-align: right;\n",
              "    }\n",
              "</style>\n",
              "<table border=\"1\" class=\"dataframe\">\n",
              "  <thead>\n",
              "    <tr style=\"text-align: right;\">\n",
              "      <th></th>\n",
              "      <th>count</th>\n",
              "    </tr>\n",
              "    <tr>\n",
              "      <th>pisos</th>\n",
              "      <th></th>\n",
              "    </tr>\n",
              "  </thead>\n",
              "  <tbody>\n",
              "    <tr>\n",
              "      <th>2.0</th>\n",
              "      <td>237</td>\n",
              "    </tr>\n",
              "    <tr>\n",
              "      <th>1.0</th>\n",
              "      <td>227</td>\n",
              "    </tr>\n",
              "    <tr>\n",
              "      <th>4.0</th>\n",
              "      <td>41</td>\n",
              "    </tr>\n",
              "    <tr>\n",
              "      <th>3.0</th>\n",
              "      <td>40</td>\n",
              "    </tr>\n",
              "  </tbody>\n",
              "</table>\n",
              "</div><br><label><b>dtype:</b> int64</label>"
            ]
          },
          "metadata": {}
        },
        {
          "output_type": "stream",
          "name": "stdout",
          "text": [
            "------------------------------\n",
            "Frequency distribution for 'calle_principal':\n"
          ]
        },
        {
          "output_type": "display_data",
          "data": {
            "text/plain": [
              "calle_principal\n",
              "yes    468\n",
              "no      77\n",
              "Name: count, dtype: int64"
            ],
            "text/html": [
              "<div>\n",
              "<style scoped>\n",
              "    .dataframe tbody tr th:only-of-type {\n",
              "        vertical-align: middle;\n",
              "    }\n",
              "\n",
              "    .dataframe tbody tr th {\n",
              "        vertical-align: top;\n",
              "    }\n",
              "\n",
              "    .dataframe thead th {\n",
              "        text-align: right;\n",
              "    }\n",
              "</style>\n",
              "<table border=\"1\" class=\"dataframe\">\n",
              "  <thead>\n",
              "    <tr style=\"text-align: right;\">\n",
              "      <th></th>\n",
              "      <th>count</th>\n",
              "    </tr>\n",
              "    <tr>\n",
              "      <th>calle_principal</th>\n",
              "      <th></th>\n",
              "    </tr>\n",
              "  </thead>\n",
              "  <tbody>\n",
              "    <tr>\n",
              "      <th>yes</th>\n",
              "      <td>468</td>\n",
              "    </tr>\n",
              "    <tr>\n",
              "      <th>no</th>\n",
              "      <td>77</td>\n",
              "    </tr>\n",
              "  </tbody>\n",
              "</table>\n",
              "</div><br><label><b>dtype:</b> int64</label>"
            ]
          },
          "metadata": {}
        },
        {
          "output_type": "stream",
          "name": "stdout",
          "text": [
            "------------------------------\n",
            "Frequency distribution for 'cuarto_invitados':\n"
          ]
        },
        {
          "output_type": "display_data",
          "data": {
            "text/plain": [
              "cuarto_invitados\n",
              "no     448\n",
              "yes     97\n",
              "Name: count, dtype: int64"
            ],
            "text/html": [
              "<div>\n",
              "<style scoped>\n",
              "    .dataframe tbody tr th:only-of-type {\n",
              "        vertical-align: middle;\n",
              "    }\n",
              "\n",
              "    .dataframe tbody tr th {\n",
              "        vertical-align: top;\n",
              "    }\n",
              "\n",
              "    .dataframe thead th {\n",
              "        text-align: right;\n",
              "    }\n",
              "</style>\n",
              "<table border=\"1\" class=\"dataframe\">\n",
              "  <thead>\n",
              "    <tr style=\"text-align: right;\">\n",
              "      <th></th>\n",
              "      <th>count</th>\n",
              "    </tr>\n",
              "    <tr>\n",
              "      <th>cuarto_invitados</th>\n",
              "      <th></th>\n",
              "    </tr>\n",
              "  </thead>\n",
              "  <tbody>\n",
              "    <tr>\n",
              "      <th>no</th>\n",
              "      <td>448</td>\n",
              "    </tr>\n",
              "    <tr>\n",
              "      <th>yes</th>\n",
              "      <td>97</td>\n",
              "    </tr>\n",
              "  </tbody>\n",
              "</table>\n",
              "</div><br><label><b>dtype:</b> int64</label>"
            ]
          },
          "metadata": {}
        },
        {
          "output_type": "stream",
          "name": "stdout",
          "text": [
            "------------------------------\n",
            "Frequency distribution for 'sotano':\n"
          ]
        },
        {
          "output_type": "display_data",
          "data": {
            "text/plain": [
              "sotano\n",
              "no     354\n",
              "yes    191\n",
              "Name: count, dtype: int64"
            ],
            "text/html": [
              "<div>\n",
              "<style scoped>\n",
              "    .dataframe tbody tr th:only-of-type {\n",
              "        vertical-align: middle;\n",
              "    }\n",
              "\n",
              "    .dataframe tbody tr th {\n",
              "        vertical-align: top;\n",
              "    }\n",
              "\n",
              "    .dataframe thead th {\n",
              "        text-align: right;\n",
              "    }\n",
              "</style>\n",
              "<table border=\"1\" class=\"dataframe\">\n",
              "  <thead>\n",
              "    <tr style=\"text-align: right;\">\n",
              "      <th></th>\n",
              "      <th>count</th>\n",
              "    </tr>\n",
              "    <tr>\n",
              "      <th>sotano</th>\n",
              "      <th></th>\n",
              "    </tr>\n",
              "  </thead>\n",
              "  <tbody>\n",
              "    <tr>\n",
              "      <th>no</th>\n",
              "      <td>354</td>\n",
              "    </tr>\n",
              "    <tr>\n",
              "      <th>yes</th>\n",
              "      <td>191</td>\n",
              "    </tr>\n",
              "  </tbody>\n",
              "</table>\n",
              "</div><br><label><b>dtype:</b> int64</label>"
            ]
          },
          "metadata": {}
        },
        {
          "output_type": "stream",
          "name": "stdout",
          "text": [
            "------------------------------\n",
            "Frequency distribution for 'calefaccion_agua':\n"
          ]
        },
        {
          "output_type": "display_data",
          "data": {
            "text/plain": [
              "calefaccion_agua\n",
              "no     520\n",
              "yes     25\n",
              "Name: count, dtype: int64"
            ],
            "text/html": [
              "<div>\n",
              "<style scoped>\n",
              "    .dataframe tbody tr th:only-of-type {\n",
              "        vertical-align: middle;\n",
              "    }\n",
              "\n",
              "    .dataframe tbody tr th {\n",
              "        vertical-align: top;\n",
              "    }\n",
              "\n",
              "    .dataframe thead th {\n",
              "        text-align: right;\n",
              "    }\n",
              "</style>\n",
              "<table border=\"1\" class=\"dataframe\">\n",
              "  <thead>\n",
              "    <tr style=\"text-align: right;\">\n",
              "      <th></th>\n",
              "      <th>count</th>\n",
              "    </tr>\n",
              "    <tr>\n",
              "      <th>calefaccion_agua</th>\n",
              "      <th></th>\n",
              "    </tr>\n",
              "  </thead>\n",
              "  <tbody>\n",
              "    <tr>\n",
              "      <th>no</th>\n",
              "      <td>520</td>\n",
              "    </tr>\n",
              "    <tr>\n",
              "      <th>yes</th>\n",
              "      <td>25</td>\n",
              "    </tr>\n",
              "  </tbody>\n",
              "</table>\n",
              "</div><br><label><b>dtype:</b> int64</label>"
            ]
          },
          "metadata": {}
        },
        {
          "output_type": "stream",
          "name": "stdout",
          "text": [
            "------------------------------\n",
            "Frequency distribution for 'aire_acondicionado':\n"
          ]
        },
        {
          "output_type": "display_data",
          "data": {
            "text/plain": [
              "aire_acondicionado\n",
              "no     373\n",
              "yes    172\n",
              "Name: count, dtype: int64"
            ],
            "text/html": [
              "<div>\n",
              "<style scoped>\n",
              "    .dataframe tbody tr th:only-of-type {\n",
              "        vertical-align: middle;\n",
              "    }\n",
              "\n",
              "    .dataframe tbody tr th {\n",
              "        vertical-align: top;\n",
              "    }\n",
              "\n",
              "    .dataframe thead th {\n",
              "        text-align: right;\n",
              "    }\n",
              "</style>\n",
              "<table border=\"1\" class=\"dataframe\">\n",
              "  <thead>\n",
              "    <tr style=\"text-align: right;\">\n",
              "      <th></th>\n",
              "      <th>count</th>\n",
              "    </tr>\n",
              "    <tr>\n",
              "      <th>aire_acondicionado</th>\n",
              "      <th></th>\n",
              "    </tr>\n",
              "  </thead>\n",
              "  <tbody>\n",
              "    <tr>\n",
              "      <th>no</th>\n",
              "      <td>373</td>\n",
              "    </tr>\n",
              "    <tr>\n",
              "      <th>yes</th>\n",
              "      <td>172</td>\n",
              "    </tr>\n",
              "  </tbody>\n",
              "</table>\n",
              "</div><br><label><b>dtype:</b> int64</label>"
            ]
          },
          "metadata": {}
        },
        {
          "output_type": "stream",
          "name": "stdout",
          "text": [
            "------------------------------\n",
            "Frequency distribution for 'estacionamiento':\n"
          ]
        },
        {
          "output_type": "display_data",
          "data": {
            "text/plain": [
              "estacionamiento\n",
              "0    299\n",
              "1    126\n",
              "2    108\n",
              "3     12\n",
              "Name: count, dtype: int64"
            ],
            "text/html": [
              "<div>\n",
              "<style scoped>\n",
              "    .dataframe tbody tr th:only-of-type {\n",
              "        vertical-align: middle;\n",
              "    }\n",
              "\n",
              "    .dataframe tbody tr th {\n",
              "        vertical-align: top;\n",
              "    }\n",
              "\n",
              "    .dataframe thead th {\n",
              "        text-align: right;\n",
              "    }\n",
              "</style>\n",
              "<table border=\"1\" class=\"dataframe\">\n",
              "  <thead>\n",
              "    <tr style=\"text-align: right;\">\n",
              "      <th></th>\n",
              "      <th>count</th>\n",
              "    </tr>\n",
              "    <tr>\n",
              "      <th>estacionamiento</th>\n",
              "      <th></th>\n",
              "    </tr>\n",
              "  </thead>\n",
              "  <tbody>\n",
              "    <tr>\n",
              "      <th>0</th>\n",
              "      <td>299</td>\n",
              "    </tr>\n",
              "    <tr>\n",
              "      <th>1</th>\n",
              "      <td>126</td>\n",
              "    </tr>\n",
              "    <tr>\n",
              "      <th>2</th>\n",
              "      <td>108</td>\n",
              "    </tr>\n",
              "    <tr>\n",
              "      <th>3</th>\n",
              "      <td>12</td>\n",
              "    </tr>\n",
              "  </tbody>\n",
              "</table>\n",
              "</div><br><label><b>dtype:</b> int64</label>"
            ]
          },
          "metadata": {}
        },
        {
          "output_type": "stream",
          "name": "stdout",
          "text": [
            "------------------------------\n",
            "Frequency distribution for 'area_preferida':\n"
          ]
        },
        {
          "output_type": "display_data",
          "data": {
            "text/plain": [
              "area_preferida\n",
              "no     418\n",
              "yes    127\n",
              "Name: count, dtype: int64"
            ],
            "text/html": [
              "<div>\n",
              "<style scoped>\n",
              "    .dataframe tbody tr th:only-of-type {\n",
              "        vertical-align: middle;\n",
              "    }\n",
              "\n",
              "    .dataframe tbody tr th {\n",
              "        vertical-align: top;\n",
              "    }\n",
              "\n",
              "    .dataframe thead th {\n",
              "        text-align: right;\n",
              "    }\n",
              "</style>\n",
              "<table border=\"1\" class=\"dataframe\">\n",
              "  <thead>\n",
              "    <tr style=\"text-align: right;\">\n",
              "      <th></th>\n",
              "      <th>count</th>\n",
              "    </tr>\n",
              "    <tr>\n",
              "      <th>area_preferida</th>\n",
              "      <th></th>\n",
              "    </tr>\n",
              "  </thead>\n",
              "  <tbody>\n",
              "    <tr>\n",
              "      <th>no</th>\n",
              "      <td>418</td>\n",
              "    </tr>\n",
              "    <tr>\n",
              "      <th>yes</th>\n",
              "      <td>127</td>\n",
              "    </tr>\n",
              "  </tbody>\n",
              "</table>\n",
              "</div><br><label><b>dtype:</b> int64</label>"
            ]
          },
          "metadata": {}
        },
        {
          "output_type": "stream",
          "name": "stdout",
          "text": [
            "------------------------------\n",
            "Frequency distribution for 'estado_amueblado':\n"
          ]
        },
        {
          "output_type": "display_data",
          "data": {
            "text/plain": [
              "estado_amueblado\n",
              "semi-furnished    227\n",
              "unfurnished       178\n",
              "furnished         140\n",
              "Name: count, dtype: int64"
            ],
            "text/html": [
              "<div>\n",
              "<style scoped>\n",
              "    .dataframe tbody tr th:only-of-type {\n",
              "        vertical-align: middle;\n",
              "    }\n",
              "\n",
              "    .dataframe tbody tr th {\n",
              "        vertical-align: top;\n",
              "    }\n",
              "\n",
              "    .dataframe thead th {\n",
              "        text-align: right;\n",
              "    }\n",
              "</style>\n",
              "<table border=\"1\" class=\"dataframe\">\n",
              "  <thead>\n",
              "    <tr style=\"text-align: right;\">\n",
              "      <th></th>\n",
              "      <th>count</th>\n",
              "    </tr>\n",
              "    <tr>\n",
              "      <th>estado_amueblado</th>\n",
              "      <th></th>\n",
              "    </tr>\n",
              "  </thead>\n",
              "  <tbody>\n",
              "    <tr>\n",
              "      <th>semi-furnished</th>\n",
              "      <td>227</td>\n",
              "    </tr>\n",
              "    <tr>\n",
              "      <th>unfurnished</th>\n",
              "      <td>178</td>\n",
              "    </tr>\n",
              "    <tr>\n",
              "      <th>furnished</th>\n",
              "      <td>140</td>\n",
              "    </tr>\n",
              "  </tbody>\n",
              "</table>\n",
              "</div><br><label><b>dtype:</b> int64</label>"
            ]
          },
          "metadata": {}
        },
        {
          "output_type": "stream",
          "name": "stdout",
          "text": [
            "------------------------------\n"
          ]
        }
      ],
      "source": [
        "# volvemos a seleccionar todas las columnas excepto precio y area\n",
        "cols_to_check = [col for col in df.columns if col not in ['precio', 'area']]\n",
        "\n",
        "# con value_counts se pude ver la frecuencia de cada columna\n",
        "for col in cols_to_check:\n",
        "    print(f\"Frequency distribution for '{col}':\")\n",
        "    display(df[col].value_counts())\n",
        "    print(\"-\" * 30) # se añaden separadores para hacerlo mas legible"
      ]
    },
    {
      "cell_type": "markdown",
      "id": "de112150",
      "metadata": {
        "id": "de112150"
      },
      "source": [
        "**Justificación técnica:** Describe aquí tu interpretación del resultado."
      ]
    },
    {
      "cell_type": "markdown",
      "id": "e06cb9b3",
      "metadata": {
        "id": "e06cb9b3"
      },
      "source": [
        "### Tarea: Seleccionar columnas excepto 'precio' y 'area'\n",
        "- Definir la cantidad de filas necesarias para graficar en 3 columnas\n",
        "- Crear figura Generar gráficos\n",
        "- Eliminar ejes vacíos si sobran"
      ]
    },
    {
      "cell_type": "code",
      "execution_count": 20,
      "id": "9e096ae1",
      "metadata": {
        "id": "9e096ae1",
        "colab": {
          "base_uri": "https://localhost:8080/",
          "height": 1000
        },
        "outputId": "a4bddeb9-4a60-4721-f92b-5bab3d53d268"
      },
      "outputs": [
        {
          "output_type": "display_data",
          "data": {
            "text/plain": [
              "<Figure size 1500x2000 with 11 Axes>"
            ],
            "image/png": "[encoded data removed]"
          },
          "metadata": {}
        }
      ],
      "source": [
        "# Seleccionamos denuevo columnas menos precio y area y las guardamos en cols_to_plot porque les vamos a generar un grafico\n",
        "cols_to_plot = [col for col in df.columns if col not in ['precio', 'area']]\n",
        "\n",
        "# Definimos las columnas para el grid\n",
        "n_cols = 3\n",
        "n_rows = (len(cols_to_plot) + n_cols - 1) // n_cols\n",
        "\n",
        "# sea hacen los subplots\n",
        "fig, axes = plt.subplots(n_rows, n_cols, figsize=(15, n_rows * 5))\n",
        "axes = axes.flatten() #aplana los ejes para iterar facilmente\n",
        "\n",
        "# se generan plots para cada columnas\n",
        "for i, col in enumerate(cols_to_plot):\n",
        "    sns.countplot(x=col, data=df, ax=axes[i])\n",
        "    axes[i].set_title(f'Distribución de Frecuencia de {col}')\n",
        "    axes[i].set_xlabel(col)\n",
        "    axes[i].set_ylabel('Frecuencia')\n",
        "    axes[i].tick_params(axis='x', rotation=45) # Rotamos x para que se puede leer mejor\n",
        "\n",
        "# Removemos subplots vacios\n",
        "for j in range(i + 1, len(axes)):\n",
        "    fig.delaxes(axes[j])\n",
        "\n",
        "plt.tight_layout()\n",
        "plt.show()"
      ]
    },
    {
      "cell_type": "markdown",
      "id": "b5a6576f",
      "metadata": {
        "id": "b5a6576f"
      },
      "source": [
        " **Justificación técnica:** Describe aquí tu interpretación del resultado."
      ]
    },
    {
      "cell_type": "markdown",
      "id": "ddb83cfd",
      "metadata": {
        "id": "ddb83cfd"
      },
      "source": [
        "###  Tarea:  Numerización de variables binarias (yes/no) con OrdinalEncoder\n",
        "\n",
        "- Las variables binarias a numerizar\n",
        "- Definir transformador con OrdinalEncoder (yes=1, no=0)\n",
        "Aplicar la transformación solo a las columnas binarias Ajustar y transformar el DataFrame\n",
        "- Recuerda dejar el feature entero\n",
        "- Guardar el transformador entrenado"
      ]
    },
    {
      "cell_type": "code",
      "execution_count": 21,
      "id": "b1d7a497",
      "metadata": {
        "id": "b1d7a497",
        "colab": {
          "base_uri": "https://localhost:8080/",
          "height": 206
        },
        "outputId": "d8eb6790-8bba-44b0-d092-ebaad9fffe99"
      },
      "outputs": [
        {
          "output_type": "display_data",
          "data": {
            "text/plain": [
              "   calle_principal  cuarto_invitados  sotano  calefaccion_agua  \\\n",
              "0                1                 0       0                 0   \n",
              "1                1                 0       0                 0   \n",
              "2                1                 0       1                 0   \n",
              "3                1                 0       1                 0   \n",
              "4                1                 1       1                 0   \n",
              "\n",
              "   aire_acondicionado  area_preferida  \n",
              "0                   1               1  \n",
              "1                   1               0  \n",
              "2                   0               1  \n",
              "3                   1               1  \n",
              "4                   1               0  "
            ],
            "text/html": [
              "\n",
              "  <div id=\"df-828b39b1-2467-49d2-9e82-85974590e990\" class=\"colab-df-container\">\n",
              "    <div>\n",
              "<style scoped>\n",
              "    .dataframe tbody tr th:only-of-type {\n",
              "        vertical-align: middle;\n",
              "    }\n",
              "\n",
              "    .dataframe tbody tr th {\n",
              "        vertical-align: top;\n",
              "    }\n",
              "\n",
              "    .dataframe thead th {\n",
              "        text-align: right;\n",
              "    }\n",
              "</style>\n",
              "<table border=\"1\" class=\"dataframe\">\n",
              "  <thead>\n",
              "    <tr style=\"text-align: right;\">\n",
              "      <th></th>\n",
              "      <th>calle_principal</th>\n",
              "      <th>cuarto_invitados</th>\n",
              "      <th>sotano</th>\n",
              "      <th>calefaccion_agua</th>\n",
              "      <th>aire_acondicionado</th>\n",
              "      <th>area_preferida</th>\n",
              "    </tr>\n",
              "  </thead>\n",
              "  <tbody>\n",
              "    <tr>\n",
              "      <th>0</th>\n",
              "      <td>1</td>\n",
              "      <td>0</td>\n",
              "      <td>0</td>\n",
              "      <td>0</td>\n",
              "      <td>1</td>\n",
              "      <td>1</td>\n",
              "    </tr>\n",
              "    <tr>\n",
              "      <th>1</th>\n",
              "      <td>1</td>\n",
              "      <td>0</td>\n",
              "      <td>0</td>\n",
              "      <td>0</td>\n",
              "      <td>1</td>\n",
              "      <td>0</td>\n",
              "    </tr>\n",
              "    <tr>\n",
              "      <th>2</th>\n",
              "      <td>1</td>\n",
              "      <td>0</td>\n",
              "      <td>1</td>\n",
              "      <td>0</td>\n",
              "      <td>0</td>\n",
              "      <td>1</td>\n",
              "    </tr>\n",
              "    <tr>\n",
              "      <th>3</th>\n",
              "      <td>1</td>\n",
              "      <td>0</td>\n",
              "      <td>1</td>\n",
              "      <td>0</td>\n",
              "      <td>1</td>\n",
              "      <td>1</td>\n",
              "    </tr>\n",
              "    <tr>\n",
              "      <th>4</th>\n",
              "      <td>1</td>\n",
              "      <td>1</td>\n",
              "      <td>1</td>\n",
              "      <td>0</td>\n",
              "      <td>1</td>\n",
              "      <td>0</td>\n",
              "    </tr>\n",
              "  </tbody>\n",
              "</table>\n",
              "</div>\n",
              "    <div class=\"colab-df-buttons\">\n",
              "\n",
              "  <div class=\"colab-df-container\">\n",
              "    <button class=\"colab-df-convert\" onclick=\"convertToInteractive('df-828b39b1-2467-49d2-9e82-85974590e990')\"\n",
              "            title=\"Convert this dataframe to an interactive table.\"\n",
              "            style=\"display:none;\">\n",
              "\n",
              "  <svg xmlns=\"http://www.w3.org/2000/svg\" height=\"24px\" viewBox=\"0 -960 960 960\">\n",
              "    <path d=\"M120-120v-720h720v720H120Zm60-500h600v-160H180v160Zm220 220h160v-160H400v160Zm0 220h160v-160H400v160ZM180-400h160v-160H180v160Zm440 0h160v-160H620v160ZM180-180h160v-160H180v160Zm440 0h160v-160H620v160Z\"/>\n",
              "  </svg>\n",
              "    </button>\n",
              "\n",
              "  <style>\n",
              "    .colab-df-container {\n",
              "      display:flex;\n",
              "      gap: 12px;\n",
              "    }\n",
              "\n",
              "    .colab-df-convert {\n",
              "      background-color: #E8F0FE;\n",
              "      border: none;\n",
              "      border-radius: 50%;\n",
              "      cursor: pointer;\n",
              "      display: none;\n",
              "      fill: #1967D2;\n",
              "      height: 32px;\n",
              "      padding: 0 0 0 0;\n",
              "      width: 32px;\n",
              "    }\n",
              "\n",
              "    .colab-df-convert:hover {\n",
              "      background-color: #E2EBFA;\n",
              "      box-shadow: 0px 1px 2px rgba(60, 64, 67, 0.3), 0px 1px 3px 1px rgba(60, 64, 67, 0.15);\n",
              "      fill: #174EA6;\n",
              "    }\n",
              "\n",
              "    .colab-df-buttons div {\n",
              "      margin-bottom: 4px;\n",
              "    }\n",
              "\n",
              "    [theme=dark] .colab-df-convert {\n",
              "      background-color: #3B4455;\n",
              "      fill: #D2E3FC;\n",
              "    }\n",
              "\n",
              "    [theme=dark] .colab-df-convert:hover {\n",
              "      background-color: #434B5C;\n",
              "      box-shadow: 0px 1px 3px 1px rgba(0, 0, 0, 0.15);\n",
              "      filter: drop-shadow(0px 1px 2px rgba(0, 0, 0, 0.3));\n",
              "      fill: #FFFFFF;\n",
              "    }\n",
              "  </style>\n",
              "\n",
              "    <script>\n",
              "      const buttonEl =\n",
              "        document.querySelector('#df-828b39b1-2467-49d2-9e82-85974590e990 button.colab-df-convert');\n",
              "      buttonEl.style.display =\n",
              "        google.colab.kernel.accessAllowed ? 'block' : 'none';\n",
              "\n",
              "      async function convertToInteractive(key) {\n",
              "        const element = document.querySelector('#df-828b39b1-2467-49d2-9e82-85974590e990');\n",
              "        const dataTable =\n",
              "          await google.colab.kernel.invokeFunction('convertToInteractive',\n",
              "                                                    [key], {});\n",
              "        if (!dataTable) return;\n",
              "\n",
              "        const docLinkHtml = 'Like what you see? Visit the ' +\n",
              "          '<a target=\"_blank\" href=https://colab.research.google.com/notebooks/data_table.ipynb>data table notebook</a>'\n",
              "          + ' to learn more about interactive tables.';\n",
              "        element.innerHTML = '';\n",
              "        dataTable['output_type'] = 'display_data';\n",
              "        await google.colab.output.renderOutput(dataTable, element);\n",
              "        const docLink = document.createElement('div');\n",
              "        docLink.innerHTML = docLinkHtml;\n",
              "        element.appendChild(docLink);\n",
              "      }\n",
              "    </script>\n",
              "  </div>\n",
              "\n",
              "\n",
              "    <div id=\"df-47376422-e231-4fba-bd48-a10097db7a83\">\n",
              "      <button class=\"colab-df-quickchart\" onclick=\"quickchart('df-47376422-e231-4fba-bd48-a10097db7a83')\"\n",
              "                title=\"Suggest charts\"\n",
              "                style=\"display:none;\">\n",
              "\n",
              "<svg xmlns=\"http://www.w3.org/2000/svg\" height=\"24px\"viewBox=\"0 0 24 24\"\n",
              "     width=\"24px\">\n",
              "    <g>\n",
              "        <path d=\"M19 3H5c-1.1 0-2 .9-2 2v14c0 1.1.9 2 2 2h14c1.1 0 2-.9 2-2V5c0-1.1-.9-2-2-2zM9 17H7v-7h2v7zm4 0h-2V7h2v10zm4 0h-2v-4h2v4z\"/>\n",
              "    </g>\n",
              "</svg>\n",
              "      </button>\n",
              "\n",
              "<style>\n",
              "  .colab-df-quickchart {\n",
              "      --bg-color: #E8F0FE;\n",
              "      --fill-color: #1967D2;\n",
              "      --hover-bg-color: #E2EBFA;\n",
              "      --hover-fill-color: #174EA6;\n",
              "      --disabled-fill-color: #AAA;\n",
              "      --disabled-bg-color: #DDD;\n",
              "  }\n",
              "\n",
              "  [theme=dark] .colab-df-quickchart {\n",
              "      --bg-color: #3B4455;\n",
              "      --fill-color: #D2E3FC;\n",
              "      --hover-bg-color: #434B5C;\n",
              "      --hover-fill-color: #FFFFFF;\n",
              "      --disabled-bg-color: #3B4455;\n",
              "      --disabled-fill-color: #666;\n",
              "  }\n",
              "\n",
              "  .colab-df-quickchart {\n",
              "    background-color: var(--bg-color);\n",
              "    border: none;\n",
              "    border-radius: 50%;\n",
              "    cursor: pointer;\n",
              "    display: none;\n",
              "    fill: var(--fill-color);\n",
              "    height: 32px;\n",
              "    padding: 0;\n",
              "    width: 32px;\n",
              "  }\n",
              "\n",
              "  .colab-df-quickchart:hover {\n",
              "    background-color: var(--hover-bg-color);\n",
              "    box-shadow: 0 1px 2px rgba(60, 64, 67, 0.3), 0 1px 3px 1px rgba(60, 64, 67, 0.15);\n",
              "    fill: var(--button-hover-fill-color);\n",
              "  }\n",
              "\n",
              "  .colab-df-quickchart-complete:disabled,\n",
              "  .colab-df-quickchart-complete:disabled:hover {\n",
              "    background-color: var(--disabled-bg-color);\n",
              "    fill: var(--disabled-fill-color);\n",
              "    box-shadow: none;\n",
              "  }\n",
              "\n",
              "  .colab-df-spinner {\n",
              "    border: 2px solid var(--fill-color);\n",
              "    border-color: transparent;\n",
              "    border-bottom-color: var(--fill-color);\n",
              "    animation:\n",
              "      spin 1s steps(1) infinite;\n",
              "  }\n",
              "\n",
              "  @keyframes spin {\n",
              "    0% {\n",
              "      border-color: transparent;\n",
              "      border-bottom-color: var(--fill-color);\n",
              "      border-left-color: var(--fill-color);\n",
              "    }\n",
              "    20% {\n",
              "      border-color: transparent;\n",
              "      border-left-color: var(--fill-color);\n",
              "      border-top-color: var(--fill-color);\n",
              "    }\n",
              "    30% {\n",
              "      border-color: transparent;\n",
              "      border-left-color: var(--fill-color);\n",
              "      border-top-color: var(--fill-color);\n",
              "      border-right-color: var(--fill-color);\n",
              "    }\n",
              "    40% {\n",
              "      border-color: transparent;\n",
              "      border-right-color: var(--fill-color);\n",
              "      border-top-color: var(--fill-color);\n",
              "    }\n",
              "    60% {\n",
              "      border-color: transparent;\n",
              "      border-right-color: var(--fill-color);\n",
              "    }\n",
              "    80% {\n",
              "      border-color: transparent;\n",
              "      border-right-color: var(--fill-color);\n",
              "      border-bottom-color: var(--fill-color);\n",
              "    }\n",
              "    90% {\n",
              "      border-color: transparent;\n",
              "      border-bottom-color: var(--fill-color);\n",
              "    }\n",
              "  }\n",
              "</style>\n",
              "\n",
              "      <script>\n",
              "        async function quickchart(key) {\n",
              "          const quickchartButtonEl =\n",
              "            document.querySelector('#' + key + ' button');\n",
              "          quickchartButtonEl.disabled = true;  // To prevent multiple clicks.\n",
              "          quickchartButtonEl.classList.add('colab-df-spinner');\n",
              "          try {\n",
              "            const charts = await google.colab.kernel.invokeFunction(\n",
              "                'suggestCharts', [key], {});\n",
              "          } catch (error) {\n",
              "            console.error('Error during call to suggestCharts:', error);\n",
              "          }\n",
              "          quickchartButtonEl.classList.remove('colab-df-spinner');\n",
              "          quickchartButtonEl.classList.add('colab-df-quickchart-complete');\n",
              "        }\n",
              "        (() => {\n",
              "          let quickchartButtonEl =\n",
              "            document.querySelector('#df-47376422-e231-4fba-bd48-a10097db7a83 button');\n",
              "          quickchartButtonEl.style.display =\n",
              "            google.colab.kernel.accessAllowed ? 'block' : 'none';\n",
              "        })();\n",
              "      </script>\n",
              "    </div>\n",
              "\n",
              "    </div>\n",
              "  </div>\n"
            ],
            "application/vnd.google.colaboratory.intrinsic+json": {
              "type": "dataframe",
              "summary": "{\n  \"name\": \"display(df[binary_cols]\",\n  \"rows\": 5,\n  \"fields\": [\n    {\n      \"column\": \"calle_principal\",\n      \"properties\": {\n        \"dtype\": \"number\",\n        \"std\": 0,\n        \"min\": 1,\n        \"max\": 1,\n        \"num_unique_values\": 1,\n        \"samples\": [\n          1\n        ],\n        \"semantic_type\": \"\",\n        \"description\": \"\"\n      }\n    },\n    {\n      \"column\": \"cuarto_invitados\",\n      \"properties\": {\n        \"dtype\": \"number\",\n        \"std\": 0,\n        \"min\": 0,\n        \"max\": 1,\n        \"num_unique_values\": 2,\n        \"samples\": [\n          1\n        ],\n        \"semantic_type\": \"\",\n        \"description\": \"\"\n      }\n    },\n    {\n      \"column\": \"sotano\",\n      \"properties\": {\n        \"dtype\": \"number\",\n        \"std\": 0,\n        \"min\": 0,\n        \"max\": 1,\n        \"num_unique_values\": 2,\n        \"samples\": [\n          1\n        ],\n        \"semantic_type\": \"\",\n        \"description\": \"\"\n      }\n    },\n    {\n      \"column\": \"calefaccion_agua\",\n      \"properties\": {\n        \"dtype\": \"number\",\n        \"std\": 0,\n        \"min\": 0,\n        \"max\": 0,\n        \"num_unique_values\": 1,\n        \"samples\": [\n          0\n        ],\n        \"semantic_type\": \"\",\n        \"description\": \"\"\n      }\n    },\n    {\n      \"column\": \"aire_acondicionado\",\n      \"properties\": {\n        \"dtype\": \"number\",\n        \"std\": 0,\n        \"min\": 0,\n        \"max\": 1,\n        \"num_unique_values\": 2,\n        \"samples\": [\n          0\n        ],\n        \"semantic_type\": \"\",\n        \"description\": \"\"\n      }\n    },\n    {\n      \"column\": \"area_preferida\",\n      \"properties\": {\n        \"dtype\": \"number\",\n        \"std\": 0,\n        \"min\": 0,\n        \"max\": 1,\n        \"num_unique_values\": 2,\n        \"samples\": [\n          0\n        ],\n        \"semantic_type\": \"\",\n        \"description\": \"\"\n      }\n    }\n  ]\n}"
            }
          },
          "metadata": {}
        }
      ],
      "source": [
        "# Define binary columns to encode\n",
        "# Definimos las columnas binarias para el encode\n",
        "binary_cols = ['calle_principal', 'cuarto_invitados', 'sotano', 'calefaccion_agua', 'aire_acondicionado', 'area_preferida']\n",
        "\n",
        "# Define OrdinalEncoder with specified order (yes=1, no=0)\n",
        "ordinal_encoder_binary = OrdinalEncoder(categories=[['no', 'yes']] * len(binary_cols), dtype=int)\n",
        "\n",
        "# Apply transformation to binary columns\n",
        "df[binary_cols] = ordinal_encoder_binary.fit_transform(df[binary_cols])\n",
        "\n",
        "# Save the fitted encoder\n",
        "joblib.dump(ordinal_encoder_binary, 'ordinal_encoder_binary.pkl')\n",
        "\n",
        "# Display the transformed columns\n",
        "display(df[binary_cols].head())"
      ]
    },
    {
      "cell_type": "markdown",
      "id": "b70bb8c9",
      "metadata": {
        "id": "b70bb8c9"
      },
      "source": [
        "**Justificación técnica:** Describe aquí tu interpretación del resultado."
      ]
    },
    {
      "cell_type": "markdown",
      "id": "77c1237e",
      "metadata": {
        "id": "77c1237e"
      },
      "source": [
        "###  Tarea:  Numerización de 'estado_amueblado' con OrdinalEncoder y diccionario -\n",
        "\n",
        "- Definir el orden deseado según el diccionario\n",
        "- Crear el encoder con el orden definido Ajustar y transformar la columna\n",
        "- Recuerda dejar el feature entero\n",
        "- Guardar el encoder para persistencia Verificar la transformación"
      ]
    },
    {
      "cell_type": "code",
      "execution_count": 22,
      "id": "498a0a8b",
      "metadata": {
        "id": "498a0a8b",
        "colab": {
          "base_uri": "https://localhost:8080/",
          "height": 206
        },
        "outputId": "1621a832-4886-4678-9d45-18dcb9f46895"
      },
      "outputs": [
        {
          "output_type": "display_data",
          "data": {
            "text/plain": [
              "   estado_amueblado\n",
              "0                 2\n",
              "1                 2\n",
              "2                 1\n",
              "3                 2\n",
              "4                 2"
            ],
            "text/html": [
              "\n",
              "  <div id=\"df-64441577-5b61-4586-a79c-d658feb576d7\" class=\"colab-df-container\">\n",
              "    <div>\n",
              "<style scoped>\n",
              "    .dataframe tbody tr th:only-of-type {\n",
              "        vertical-align: middle;\n",
              "    }\n",
              "\n",
              "    .dataframe tbody tr th {\n",
              "        vertical-align: top;\n",
              "    }\n",
              "\n",
              "    .dataframe thead th {\n",
              "        text-align: right;\n",
              "    }\n",
              "</style>\n",
              "<table border=\"1\" class=\"dataframe\">\n",
              "  <thead>\n",
              "    <tr style=\"text-align: right;\">\n",
              "      <th></th>\n",
              "      <th>estado_amueblado</th>\n",
              "    </tr>\n",
              "  </thead>\n",
              "  <tbody>\n",
              "    <tr>\n",
              "      <th>0</th>\n",
              "      <td>2</td>\n",
              "    </tr>\n",
              "    <tr>\n",
              "      <th>1</th>\n",
              "      <td>2</td>\n",
              "    </tr>\n",
              "    <tr>\n",
              "      <th>2</th>\n",
              "      <td>1</td>\n",
              "    </tr>\n",
              "    <tr>\n",
              "      <th>3</th>\n",
              "      <td>2</td>\n",
              "    </tr>\n",
              "    <tr>\n",
              "      <th>4</th>\n",
              "      <td>2</td>\n",
              "    </tr>\n",
              "  </tbody>\n",
              "</table>\n",
              "</div>\n",
              "    <div class=\"colab-df-buttons\">\n",
              "\n",
              "  <div class=\"colab-df-container\">\n",
              "    <button class=\"colab-df-convert\" onclick=\"convertToInteractive('df-64441577-5b61-4586-a79c-d658feb576d7')\"\n",
              "            title=\"Convert this dataframe to an interactive table.\"\n",
              "            style=\"display:none;\">\n",
              "\n",
              "  <svg xmlns=\"http://www.w3.org/2000/svg\" height=\"24px\" viewBox=\"0 -960 960 960\">\n",
              "    <path d=\"M120-120v-720h720v720H120Zm60-500h600v-160H180v160Zm220 220h160v-160H400v160Zm0 220h160v-160H400v160ZM180-400h160v-160H180v160Zm440 0h160v-160H620v160ZM180-180h160v-160H180v160Zm440 0h160v-160H620v160Z\"/>\n",
              "  </svg>\n",
              "    </button>\n",
              "\n",
              "  <style>\n",
              "    .colab-df-container {\n",
              "      display:flex;\n",
              "      gap: 12px;\n",
              "    }\n",
              "\n",
              "    .colab-df-convert {\n",
              "      background-color: #E8F0FE;\n",
              "      border: none;\n",
              "      border-radius: 50%;\n",
              "      cursor: pointer;\n",
              "      display: none;\n",
              "      fill: #1967D2;\n",
              "      height: 32px;\n",
              "      padding: 0 0 0 0;\n",
              "      width: 32px;\n",
              "    }\n",
              "\n",
              "    .colab-df-convert:hover {\n",
              "      background-color: #E2EBFA;\n",
              "      box-shadow: 0px 1px 2px rgba(60, 64, 67, 0.3), 0px 1px 3px 1px rgba(60, 64, 67, 0.15);\n",
              "      fill: #174EA6;\n",
              "    }\n",
              "\n",
              "    .colab-df-buttons div {\n",
              "      margin-bottom: 4px;\n",
              "    }\n",
              "\n",
              "    [theme=dark] .colab-df-convert {\n",
              "      background-color: #3B4455;\n",
              "      fill: #D2E3FC;\n",
              "    }\n",
              "\n",
              "    [theme=dark] .colab-df-convert:hover {\n",
              "      background-color: #434B5C;\n",
              "      box-shadow: 0px 1px 3px 1px rgba(0, 0, 0, 0.15);\n",
              "      filter: drop-shadow(0px 1px 2px rgba(0, 0, 0, 0.3));\n",
              "      fill: #FFFFFF;\n",
              "    }\n",
              "  </style>\n",
              "\n",
              "    <script>\n",
              "      const buttonEl =\n",
              "        document.querySelector('#df-64441577-5b61-4586-a79c-d658feb576d7 button.colab-df-convert');\n",
              "      buttonEl.style.display =\n",
              "        google.colab.kernel.accessAllowed ? 'block' : 'none';\n",
              "\n",
              "      async function convertToInteractive(key) {\n",
              "        const element = document.querySelector('#df-64441577-5b61-4586-a79c-d658feb576d7');\n",
              "        const dataTable =\n",
              "          await google.colab.kernel.invokeFunction('convertToInteractive',\n",
              "                                                    [key], {});\n",
              "        if (!dataTable) return;\n",
              "\n",
              "        const docLinkHtml = 'Like what you see? Visit the ' +\n",
              "          '<a target=\"_blank\" href=https://colab.research.google.com/notebooks/data_table.ipynb>data table notebook</a>'\n",
              "          + ' to learn more about interactive tables.';\n",
              "        element.innerHTML = '';\n",
              "        dataTable['output_type'] = 'display_data';\n",
              "        await google.colab.output.renderOutput(dataTable, element);\n",
              "        const docLink = document.createElement('div');\n",
              "        docLink.innerHTML = docLinkHtml;\n",
              "        element.appendChild(docLink);\n",
              "      }\n",
              "    </script>\n",
              "  </div>\n",
              "\n",
              "\n",
              "    <div id=\"df-4ce9eded-09a5-48b9-8fb7-a565cb703eca\">\n",
              "      <button class=\"colab-df-quickchart\" onclick=\"quickchart('df-4ce9eded-09a5-48b9-8fb7-a565cb703eca')\"\n",
              "                title=\"Suggest charts\"\n",
              "                style=\"display:none;\">\n",
              "\n",
              "<svg xmlns=\"http://www.w3.org/2000/svg\" height=\"24px\"viewBox=\"0 0 24 24\"\n",
              "     width=\"24px\">\n",
              "    <g>\n",
              "        <path d=\"M19 3H5c-1.1 0-2 .9-2 2v14c0 1.1.9 2 2 2h14c1.1 0 2-.9 2-2V5c0-1.1-.9-2-2-2zM9 17H7v-7h2v7zm4 0h-2V7h2v10zm4 0h-2v-4h2v4z\"/>\n",
              "    </g>\n",
              "</svg>\n",
              "      </button>\n",
              "\n",
              "<style>\n",
              "  .colab-df-quickchart {\n",
              "      --bg-color: #E8F0FE;\n",
              "      --fill-color: #1967D2;\n",
              "      --hover-bg-color: #E2EBFA;\n",
              "      --hover-fill-color: #174EA6;\n",
              "      --disabled-fill-color: #AAA;\n",
              "      --disabled-bg-color: #DDD;\n",
              "  }\n",
              "\n",
              "  [theme=dark] .colab-df-quickchart {\n",
              "      --bg-color: #3B4455;\n",
              "      --fill-color: #D2E3FC;\n",
              "      --hover-bg-color: #434B5C;\n",
              "      --hover-fill-color: #FFFFFF;\n",
              "      --disabled-bg-color: #3B4455;\n",
              "      --disabled-fill-color: #666;\n",
              "  }\n",
              "\n",
              "  .colab-df-quickchart {\n",
              "    background-color: var(--bg-color);\n",
              "    border: none;\n",
              "    border-radius: 50%;\n",
              "    cursor: pointer;\n",
              "    display: none;\n",
              "    fill: var(--fill-color);\n",
              "    height: 32px;\n",
              "    padding: 0;\n",
              "    width: 32px;\n",
              "  }\n",
              "\n",
              "  .colab-df-quickchart:hover {\n",
              "    background-color: var(--hover-bg-color);\n",
              "    box-shadow: 0 1px 2px rgba(60, 64, 67, 0.3), 0 1px 3px 1px rgba(60, 64, 67, 0.15);\n",
              "    fill: var(--button-hover-fill-color);\n",
              "  }\n",
              "\n",
              "  .colab-df-quickchart-complete:disabled,\n",
              "  .colab-df-quickchart-complete:disabled:hover {\n",
              "    background-color: var(--disabled-bg-color);\n",
              "    fill: var(--disabled-fill-color);\n",
              "    box-shadow: none;\n",
              "  }\n",
              "\n",
              "  .colab-df-spinner {\n",
              "    border: 2px solid var(--fill-color);\n",
              "    border-color: transparent;\n",
              "    border-bottom-color: var(--fill-color);\n",
              "    animation:\n",
              "      spin 1s steps(1) infinite;\n",
              "  }\n",
              "\n",
              "  @keyframes spin {\n",
              "    0% {\n",
              "      border-color: transparent;\n",
              "      border-bottom-color: var(--fill-color);\n",
              "      border-left-color: var(--fill-color);\n",
              "    }\n",
              "    20% {\n",
              "      border-color: transparent;\n",
              "      border-left-color: var(--fill-color);\n",
              "      border-top-color: var(--fill-color);\n",
              "    }\n",
              "    30% {\n",
              "      border-color: transparent;\n",
              "      border-left-color: var(--fill-color);\n",
              "      border-top-color: var(--fill-color);\n",
              "      border-right-color: var(--fill-color);\n",
              "    }\n",
              "    40% {\n",
              "      border-color: transparent;\n",
              "      border-right-color: var(--fill-color);\n",
              "      border-top-color: var(--fill-color);\n",
              "    }\n",
              "    60% {\n",
              "      border-color: transparent;\n",
              "      border-right-color: var(--fill-color);\n",
              "    }\n",
              "    80% {\n",
              "      border-color: transparent;\n",
              "      border-right-color: var(--fill-color);\n",
              "      border-bottom-color: var(--fill-color);\n",
              "    }\n",
              "    90% {\n",
              "      border-color: transparent;\n",
              "      border-bottom-color: var(--fill-color);\n",
              "    }\n",
              "  }\n",
              "</style>\n",
              "\n",
              "      <script>\n",
              "        async function quickchart(key) {\n",
              "          const quickchartButtonEl =\n",
              "            document.querySelector('#' + key + ' button');\n",
              "          quickchartButtonEl.disabled = true;  // To prevent multiple clicks.\n",
              "          quickchartButtonEl.classList.add('colab-df-spinner');\n",
              "          try {\n",
              "            const charts = await google.colab.kernel.invokeFunction(\n",
              "                'suggestCharts', [key], {});\n",
              "          } catch (error) {\n",
              "            console.error('Error during call to suggestCharts:', error);\n",
              "          }\n",
              "          quickchartButtonEl.classList.remove('colab-df-spinner');\n",
              "          quickchartButtonEl.classList.add('colab-df-quickchart-complete');\n",
              "        }\n",
              "        (() => {\n",
              "          let quickchartButtonEl =\n",
              "            document.querySelector('#df-4ce9eded-09a5-48b9-8fb7-a565cb703eca button');\n",
              "          quickchartButtonEl.style.display =\n",
              "            google.colab.kernel.accessAllowed ? 'block' : 'none';\n",
              "        })();\n",
              "      </script>\n",
              "    </div>\n",
              "\n",
              "    </div>\n",
              "  </div>\n"
            ],
            "application/vnd.google.colaboratory.intrinsic+json": {
              "type": "dataframe",
              "summary": "{\n  \"name\": \"display(df[['estado_amueblado']]\",\n  \"rows\": 5,\n  \"fields\": [\n    {\n      \"column\": \"estado_amueblado\",\n      \"properties\": {\n        \"dtype\": \"number\",\n        \"std\": 0,\n        \"min\": 1,\n        \"max\": 2,\n        \"num_unique_values\": 2,\n        \"samples\": [\n          1,\n          2\n        ],\n        \"semantic_type\": \"\",\n        \"description\": \"\"\n      }\n    }\n  ]\n}"
            }
          },
          "metadata": {}
        }
      ],
      "source": [
        "# Define the desired order for 'estado_amueblado'\n",
        "furnishing_order = ['unfurnished', 'semi-furnished', 'furnished']\n",
        "\n",
        "# Create the encoder with the defined order\n",
        "ordinal_encoder_furnishing = OrdinalEncoder(categories=[furnishing_order], dtype=int)\n",
        "\n",
        "# Fit and transform the 'estado_amueblado' column\n",
        "df['estado_amueblado'] = ordinal_encoder_furnishing.fit_transform(df[['estado_amueblado']])\n",
        "\n",
        "# Save the fitted encoder\n",
        "joblib.dump(ordinal_encoder_furnishing, 'ordinal_encoder_furnishing.pkl')\n",
        "\n",
        "# Verify the transformation\n",
        "display(df[['estado_amueblado']].head())"
      ]
    },
    {
      "cell_type": "markdown",
      "id": "e1d04251",
      "metadata": {
        "id": "e1d04251"
      },
      "source": [
        " **Justificación técnica:** Describe aquí tu interpretación del resultado."
      ]
    },
    {
      "cell_type": "code",
      "execution_count": null,
      "id": "0c0b7a99",
      "metadata": {
        "id": "0c0b7a99"
      },
      "outputs": [],
      "source": [
        "target = 'precio'\n",
        "features = [i for i in df.columns if i not in [target]]"
      ]
    },
    {
      "cell_type": "markdown",
      "id": "a99e3ef7",
      "metadata": {
        "id": "a99e3ef7"
      },
      "source": [
        "### Tarea: Mapa de correlación de todas las variables numéricas\n",
        "\n",
        "- Calcular la matriz de correlación\n",
        "- Configurar el tamaño de la figura\n",
        "- Crear el mapa de calor Título del gráfico\n"
      ]
    },
    {
      "cell_type": "code",
      "execution_count": 23,
      "id": "f7531b52",
      "metadata": {
        "id": "f7531b52",
        "colab": {
          "base_uri": "https://localhost:8080/",
          "height": 820
        },
        "outputId": "89390fde-596d-427f-fa0d-d244cf75682f"
      },
      "outputs": [
        {
          "output_type": "display_data",
          "data": {
            "text/plain": [
              "<Figure size 1200x800 with 2 Axes>"
            ],
            "image/png": "[encoded data removed]"
          },
          "metadata": {}
        }
      ],
      "source": [
        "# Calculate the correlation matrix\n",
        "correlation_matrix = df.corr(numeric_only=True)\n",
        "\n",
        "# Configure the figure size\n",
        "plt.figure(figsize=(12, 8))\n",
        "\n",
        "# Create the heatmap\n",
        "sns.heatmap(correlation_matrix, annot=True, cmap='coolwarm', fmt=\".2f\")\n",
        "\n",
        "# Set the title\n",
        "plt.title('Mapa de Correlación de Variables Numéricas')\n",
        "plt.show()"
      ]
    },
    {
      "cell_type": "markdown",
      "id": "02ec2eea",
      "metadata": {
        "id": "02ec2eea"
      },
      "source": [
        "**Justificación técnica:** Describe aquí tu interpretación del resultado."
      ]
    },
    {
      "cell_type": "markdown",
      "id": "c748178a",
      "metadata": {
        "id": "c748178a",
        "papermill": {
          "duration": 0.04273,
          "end_time": "2022-04-21T13:47:16.129981",
          "exception": false,
          "start_time": "2022-04-21T13:47:16.087251",
          "status": "completed"
        },
        "tags": []
      },
      "source": [
        "---"
      ]
    },
    {
      "cell_type": "markdown",
      "id": "7b3884a8",
      "metadata": {
        "id": "7b3884a8",
        "papermill": {
          "duration": 0.043872,
          "end_time": "2022-04-21T13:47:16.216976",
          "exception": false,
          "start_time": "2022-04-21T13:47:16.173104",
          "status": "completed"
        },
        "tags": []
      },
      "source": [
        "# <center> 2. Exploratory Data Analysis (EDA)"
      ]
    },
    {
      "cell_type": "markdown",
      "id": "2ef82522",
      "metadata": {
        "id": "2ef82522"
      },
      "source": [
        "### Tarea:  Analizar la distribución de la variable objetivo con 30 bins usado curva de densidad\n",
        "Histograma con curva de densidad"
      ]
    },
    {
      "cell_type": "code",
      "execution_count": 24,
      "id": "33d2597e",
      "metadata": {
        "id": "33d2597e",
        "colab": {
          "base_uri": "https://localhost:8080/",
          "height": 564
        },
        "outputId": "3ae49643-dc68-42ce-b39b-a73762081e4a"
      },
      "outputs": [
        {
          "output_type": "display_data",
          "data": {
            "text/plain": [
              "<Figure size 1000x600 with 1 Axes>"
            ],
            "image/png": "[encoded data removed]"
          },
          "metadata": {}
        }
      ],
      "source": [
        "# Plot histogram with KDE for 'precio'\n",
        "plt.figure(figsize=(10, 6))\n",
        "sns.histplot(df['precio'], bins=30, kde=True)\n",
        "plt.title('Distribución de Precio con KDE')\n",
        "plt.xlabel('Precio')\n",
        "plt.ylabel('Frecuencia')\n",
        "plt.show()"
      ]
    },
    {
      "cell_type": "markdown",
      "id": "7950b270",
      "metadata": {
        "id": "7950b270"
      },
      "source": [
        " **Justificación técnica:** Describe aquí tu interpretación del resultado."
      ]
    },
    {
      "cell_type": "markdown",
      "id": "a0072e45",
      "metadata": {
        "id": "a0072e45"
      },
      "source": [
        "###  Tarea: Calcular el sesgo (skewness) de la variable 'precio'"
      ]
    },
    {
      "cell_type": "code",
      "execution_count": 25,
      "id": "19204507",
      "metadata": {
        "id": "19204507",
        "colab": {
          "base_uri": "https://localhost:8080/"
        },
        "outputId": "a186a5e4-d660-4af3-cdbc-281657866772"
      },
      "outputs": [
        {
          "output_type": "stream",
          "name": "stdout",
          "text": [
            "Skewness of 'precio': 1.2122388370279802\n"
          ]
        }
      ],
      "source": [
        "# Calculate the skewness of 'precio'\n",
        "skewness_precio = df['precio'].skew()\n",
        "print(f\"Skewness of 'precio': {skewness_precio}\")"
      ]
    },
    {
      "cell_type": "markdown",
      "id": "e05d2dae",
      "metadata": {
        "id": "e05d2dae"
      },
      "source": [
        " **Justificación técnica:** Describe aquí tu interpretación del resultado."
      ]
    },
    {
      "cell_type": "markdown",
      "id": "5e9f2278",
      "metadata": {
        "id": "5e9f2278"
      },
      "source": [
        "###  Tarea:  Calcular la curtosis (kurtosis) de la variable 'precio'\n"
      ]
    },
    {
      "cell_type": "code",
      "execution_count": 27,
      "id": "9b6b1e9c",
      "metadata": {
        "id": "9b6b1e9c",
        "colab": {
          "base_uri": "https://localhost:8080/"
        },
        "outputId": "e8122318-8599-4b82-822b-3a22efb65a25"
      },
      "outputs": [
        {
          "output_type": "stream",
          "name": "stdout",
          "text": [
            "Kurtosis of 'precio': 1.9601302314151994\n"
          ]
        }
      ],
      "source": [
        "# Calculate the kurtosis of 'precio'\n",
        "kurtosis_precio = df['precio'].kurtosis()\n",
        "print(f\"Kurtosis of 'precio': {kurtosis_precio}\")"
      ]
    },
    {
      "cell_type": "code",
      "metadata": {
        "colab": {
          "base_uri": "https://localhost:8080/"
        },
        "id": "da91a358",
        "outputId": "404398a5-01c8-4b8d-884f-7d2e8f4c5be8"
      },
      "source": [
        "# Calculate mean of 'precio'\n",
        "mean_precio = df['precio'].mean()\n",
        "print(f\"Mean of 'precio': {mean_precio}\")\n",
        "\n",
        "# Calculate median of 'precio'\n",
        "median_precio = df['precio'].median()\n",
        "print(f\"Median of 'precio': {median_precio}\")\n",
        "\n",
        "# Calculate mode of 'precio'\n",
        "mode_precio = df['precio'].mode()[0]\n",
        "print(f\"Mode of 'precio': {mode_precio}\")"
      ],
      "id": "da91a358",
      "execution_count": 28,
      "outputs": [
        {
          "output_type": "stream",
          "name": "stdout",
          "text": [
            "Mean of 'precio': 4766729.247706422\n",
            "Median of 'precio': 4340000.0\n",
            "Mode of 'precio': 3500000\n"
          ]
        }
      ]
    },
    {
      "cell_type": "markdown",
      "id": "557545b7",
      "metadata": {
        "id": "557545b7"
      },
      "source": [
        " **Justificación técnica:** Calculamos la media, mediana y moda con comandos."
      ]
    },
    {
      "cell_type": "markdown",
      "source": [
        " Tarea:  Calcular la media, mediana y moda\n"
      ],
      "metadata": {
        "id": "W0HZpoIpKFuT"
      },
      "id": "W0HZpoIpKFuT"
    },
    {
      "cell_type": "markdown",
      "id": "e66e0d30",
      "metadata": {
        "id": "e66e0d30"
      },
      "source": [
        " Tarea:  Calcular la curtosis (kurtosis) de la variable 'precio'\n",
        "\n",
        "\n",
        "```\n",
        "# This is formatted as code\n",
        "```\n",
        "\n",
        " **Justificación técnica:** Describe aquí tu interpretación del resultado."
      ]
    },
    {
      "cell_type": "markdown",
      "id": "7012b3a2",
      "metadata": {
        "id": "7012b3a2"
      },
      "source": [
        "###  Tarea:   Diagramas de caja y bigotes (3 por fila) excluyendo variables binarias\n",
        "- Variables a excluir Seleccionar solo columnas numéricas, excluyendo las binarias\n",
        "- Definir número de columnas en la cuadrícula\n",
        "- Crear subplots Graficar cada boxplot\n",
        "- Eliminar ejes vacíos"
      ]
    },
    {
      "cell_type": "code",
      "execution_count": 29,
      "id": "6abfea22",
      "metadata": {
        "id": "6abfea22",
        "colab": {
          "base_uri": "https://localhost:8080/",
          "height": 1000
        },
        "outputId": "e7d2d918-9ebb-42b3-d0a8-7db8f13477d1"
      },
      "outputs": [
        {
          "output_type": "display_data",
          "data": {
            "text/plain": [
              "<Figure size 1500x1500 with 7 Axes>"
            ],
            "image/png": "[encoded data removed]"
          },
          "metadata": {}
        }
      ],
      "source": [
        "# Identify numerical columns (excluding binary which are now int64)\n",
        "numerical_cols = df.select_dtypes(include=np.number).columns.tolist()\n",
        "\n",
        "# Exclude columns that were originally binary and now encoded as 0 and 1\n",
        "# We can identify them by checking if they only contain 0 and 1\n",
        "non_binary_numerical_cols = [col for col in numerical_cols if not df[col].isin([0, 1]).all()]\n",
        "\n",
        "# Define number of columns in the grid\n",
        "n_cols = 3\n",
        "n_rows = (len(non_binary_numerical_cols) + n_cols - 1) // n_cols\n",
        "\n",
        "# Create subplots\n",
        "fig, axes = plt.subplots(n_rows, n_cols, figsize=(15, n_rows * 5))\n",
        "axes = axes.flatten()\n",
        "\n",
        "# Plot boxplot for each non-binary numerical column\n",
        "for i, col in enumerate(non_binary_numerical_cols):\n",
        "    sns.boxplot(x=df[col], ax=axes[i])\n",
        "    axes[i].set_title(f'Boxplot de {col}')\n",
        "    axes[i].set_xlabel(col)\n",
        "\n",
        "# Remove empty axes\n",
        "for j in range(i + 1, len(axes)):\n",
        "    fig.delaxes(axes[j])\n",
        "\n",
        "plt.tight_layout()\n",
        "plt.show()"
      ]
    },
    {
      "cell_type": "markdown",
      "id": "2faf25a1",
      "metadata": {
        "id": "2faf25a1"
      },
      "source": [
        " **Justificación técnica:** Describe aquí tu interpretación del resultado."
      ]
    },
    {
      "cell_type": "markdown",
      "id": "ab1acf1e",
      "metadata": {
        "id": "ab1acf1e"
      },
      "source": [
        "### Tarea: Eliminar outliers en la variable 'precio' usando IQR\n",
        "- Calcular Q1 y Q3 Definir límite superior\n",
        "- Filtrar filas (mantener solo precios dentro del rango aceptable)"
      ]
    },
    {
      "cell_type": "code",
      "execution_count": 30,
      "id": "a045f969",
      "metadata": {
        "id": "a045f969"
      },
      "outputs": [],
      "source": [
        "# Calculate Q1 and Q3 for 'precio'\n",
        "Q1 = df['precio'].quantile(0.25)\n",
        "Q3 = df['precio'].quantile(0.75)\n",
        "IQR = Q3 - Q1\n",
        "\n",
        "# Define the upper limit for outliers\n",
        "upper_limit = Q3 + 1.5 * IQR\n",
        "\n",
        "# Filter out rows where 'precio' is above the upper limit\n",
        "df = df[df['precio'] <= upper_limit]"
      ]
    },
    {
      "cell_type": "markdown",
      "id": "4951362c",
      "metadata": {
        "id": "4951362c"
      },
      "source": [
        " **Justificación técnica:** Describe aquí tu interpretación del resultado."
      ]
    },
    {
      "cell_type": "markdown",
      "id": "bda7cc22",
      "metadata": {
        "id": "bda7cc22"
      },
      "source": [
        "###  Tarea: Boxplot de la variable 'precio'"
      ]
    },
    {
      "cell_type": "code",
      "execution_count": 31,
      "id": "a2d40eee",
      "metadata": {
        "id": "a2d40eee",
        "colab": {
          "base_uri": "https://localhost:8080/",
          "height": 564
        },
        "outputId": "9070046f-4cd1-452c-ef4a-9b15759915b0"
      },
      "outputs": [
        {
          "output_type": "display_data",
          "data": {
            "text/plain": [
              "<Figure size 1000x600 with 1 Axes>"
            ],
            "image/png": "[encoded data removed]"
          },
          "metadata": {}
        }
      ],
      "source": [
        "# Create a boxplot for 'precio'\n",
        "plt.figure(figsize=(10, 6))\n",
        "sns.boxplot(x=df['precio'])\n",
        "plt.title('Boxplot de Precio (sin Outliers)')\n",
        "plt.xlabel('Precio')\n",
        "plt.show()"
      ]
    },
    {
      "cell_type": "markdown",
      "id": "72e4f87f",
      "metadata": {
        "id": "72e4f87f"
      },
      "source": [
        "**Justificación técnica:** Describe aquí tu interpretación del resultado."
      ]
    },
    {
      "cell_type": "markdown",
      "source": [
        "###Tarea: Nuevamente verifiquemos cómo quedó la distribución de frecuencia de la variable 'precio'"
      ],
      "metadata": {
        "id": "iilwfsgYc_F7"
      },
      "id": "iilwfsgYc_F7"
    },
    {
      "cell_type": "code",
      "source": [
        "# Plot histogram with KDE for 'precio' after outlier removal\n",
        "plt.figure(figsize=(10, 6))\n",
        "sns.histplot(df['precio'], bins=30, kde=True)\n",
        "plt.title('Distribución de Precio con KDE (sin Outliers)')\n",
        "plt.xlabel('Precio')\n",
        "plt.ylabel('Frecuencia')\n",
        "plt.show()"
      ],
      "metadata": {
        "id": "QN6ZV-c_dLrK",
        "colab": {
          "base_uri": "https://localhost:8080/",
          "height": 564
        },
        "outputId": "5ecc4568-ae7a-49a7-f936-3bda1452d3b3"
      },
      "id": "QN6ZV-c_dLrK",
      "execution_count": 32,
      "outputs": [
        {
          "output_type": "display_data",
          "data": {
            "text/plain": [
              "<Figure size 1000x600 with 1 Axes>"
            ],
            "image/png": "[encoded data removed]"
          },
          "metadata": {}
        }
      ]
    },
    {
      "cell_type": "markdown",
      "id": "c6c1e0b0",
      "metadata": {
        "id": "c6c1e0b0"
      },
      "source": [
        " **Justificación técnica:** Describe aquí tu interpretación del resultado."
      ]
    },
    {
      "cell_type": "markdown",
      "id": "f9282a71",
      "metadata": {
        "id": "f9282a71",
        "papermill": {
          "duration": 0.059556,
          "end_time": "2022-04-21T13:47:31.615332",
          "exception": false,
          "start_time": "2022-04-21T13:47:31.555776",
          "status": "completed"
        },
        "tags": []
      },
      "source": [
        "# <center> 4. Data Manipulation"
      ]
    },
    {
      "cell_type": "markdown",
      "id": "3adbc620",
      "metadata": {
        "id": "3adbc620"
      },
      "source": [
        "###  Tarea: División del dataset en conjuntos de entrenamiento y prueba\n",
        "\n",
        "- Reemplazar espacios en los nombres de columnas por \"_\"\n",
        "- Separar variables predictoras (X) y variable objetivo (Y)\n",
        "- Dividir los datos (80% entrenamiento, 20% prueba)"
      ]
    },
    {
      "cell_type": "code",
      "execution_count": 33,
      "id": "64e7a2fd",
      "metadata": {
        "id": "64e7a2fd",
        "colab": {
          "base_uri": "https://localhost:8080/"
        },
        "outputId": "88a9d358-7e87-4b93-8ba0-fdd703d78f23"
      },
      "outputs": [
        {
          "output_type": "stream",
          "name": "stdout",
          "text": [
            "Shape of X_train: (424, 12)\n",
            "Shape of X_test: (106, 12)\n",
            "Shape of y_train: (424,)\n",
            "Shape of y_test: (106,)\n"
          ]
        }
      ],
      "source": [
        "# Replace spaces in column names with underscores\n",
        "df.columns = df.columns.str.replace(' ', '_')\n",
        "\n",
        "# Separate features (X) and target (Y)\n",
        "target = 'precio'\n",
        "features = [col for col in df.columns if col != target]\n",
        "X = df[features]\n",
        "y = df[target]\n",
        "\n",
        "# Split the data into training and testing sets (80% train, 20% test) with stratification\n",
        "X_train, X_test, y_train, y_test = train_test_split(X, y, test_size=0.2, random_state=42)\n",
        "\n",
        "print(\"Shape of X_train:\", X_train.shape)\n",
        "print(\"Shape of X_test:\", X_test.shape)\n",
        "print(\"Shape of y_train:\", y_train.shape)\n",
        "print(\"Shape of y_test:\", y_test.shape)"
      ]
    },
    {
      "cell_type": "markdown",
      "id": "f69055d4",
      "metadata": {
        "id": "f69055d4"
      },
      "source": [
        " **Justificación técnica:** Describe aquí tu interpretación del resultado."
      ]
    },
    {
      "cell_type": "markdown",
      "id": "531f2577",
      "metadata": {
        "id": "531f2577"
      },
      "source": [
        "### Tarea:  Escalado de características (Estandarización)\n",
        "- Inicializamos el escalador\n",
        "- Estandarización del conjunto de entrenamiento\n",
        "- Estandarización del conjunto de prueba ----"
      ]
    },
    {
      "cell_type": "code",
      "execution_count": 34,
      "id": "25047e24",
      "metadata": {
        "id": "25047e24"
      },
      "outputs": [],
      "source": [
        "# Initialize the StandardScaler\n",
        "scaler = StandardScaler()\n",
        "\n",
        "# Standardize the training set\n",
        "X_train_scaled = scaler.fit_transform(X_train)\n",
        "\n",
        "# Standardize the testing set\n",
        "X_test_scaled = scaler.transform(X_test)"
      ]
    },
    {
      "cell_type": "markdown",
      "id": "939a3e83",
      "metadata": {
        "id": "939a3e83"
      },
      "source": [
        " **Justificación técnica:** Describe aquí tu interpretación del resultado."
      ]
    },
    {
      "cell_type": "markdown",
      "id": "3641461f",
      "metadata": {
        "id": "3641461f"
      },
      "source": [
        "### Tarea:   Guardar y cargar el modelo de normalización\n",
        "- Guardar el modelo entrenado de StandardScaler"
      ]
    },
    {
      "cell_type": "code",
      "execution_count": 35,
      "id": "31c8532c",
      "metadata": {
        "id": "31c8532c",
        "colab": {
          "base_uri": "https://localhost:8080/"
        },
        "outputId": "396d4ef2-728e-47c5-b7d8-0444acbae09a"
      },
      "outputs": [
        {
          "output_type": "execute_result",
          "data": {
            "text/plain": [
              "['standard_scaler.pkl']"
            ]
          },
          "metadata": {},
          "execution_count": 35
        }
      ],
      "source": [
        "# Save the fitted StandardScaler model\n",
        "joblib.dump(scaler, 'standard_scaler.pkl')"
      ]
    },
    {
      "cell_type": "markdown",
      "id": "c30e447a",
      "metadata": {
        "id": "c30e447a"
      },
      "source": [
        "**Justificación técnica:** Describe aquí tu interpretación del resultado."
      ]
    },
    {
      "cell_type": "markdown",
      "id": "59b2cb07",
      "metadata": {
        "id": "59b2cb07"
      },
      "source": [
        "###  Tarea:  Varianza en decimales con 6 cifras\n"
      ]
    },
    {
      "cell_type": "code",
      "execution_count": 36,
      "id": "b5a5f38f",
      "metadata": {
        "id": "b5a5f38f",
        "colab": {
          "base_uri": "https://localhost:8080/",
          "height": 52
        },
        "outputId": "da03af34-f687-4ac5-b60b-8ce8dbc88388"
      },
      "outputs": [
        {
          "output_type": "stream",
          "name": "stdout",
          "text": [
            "Variance of scaled training data:\n"
          ]
        },
        {
          "output_type": "display_data",
          "data": {
            "text/plain": [
              "array([1., 1., 1., 1., 1., 1., 1., 1., 1., 1., 1., 1.])"
            ]
          },
          "metadata": {}
        }
      ],
      "source": [
        "# Calculate the variance of the scaled training data\n",
        "variance = X_train_scaled.var(axis=0)\n",
        "\n",
        "# Display the variance with 6 decimal places\n",
        "print(\"Variance of scaled training data:\")\n",
        "display(np.round(variance, 6))"
      ]
    },
    {
      "cell_type": "markdown",
      "id": "64404d41",
      "metadata": {
        "id": "64404d41"
      },
      "source": [
        " **Justificación técnica:** Describe aquí tu interpretación del resultado."
      ]
    },
    {
      "cell_type": "markdown",
      "id": "ba412926",
      "metadata": {
        "id": "ba412926",
        "papermill": {
          "duration": 0.067763,
          "end_time": "2022-04-21T13:47:32.155931",
          "exception": false,
          "start_time": "2022-04-21T13:47:32.088168",
          "status": "completed"
        },
        "tags": []
      },
      "source": [
        "---"
      ]
    },
    {
      "cell_type": "markdown",
      "id": "e87fe4cc",
      "metadata": {
        "id": "e87fe4cc"
      },
      "source": [
        "### Tarea:  Reducción de características con VarianceThreshold\n",
        "\n",
        "- Definir el umbral (ej: 0.01)\n",
        "- Ajustar en los datos normalizados de entrenamiento Columnas seleccionadas\n",
        "- Convertir a DataFrame"
      ]
    },
    {
      "cell_type": "code",
      "execution_count": 37,
      "id": "4a1e6245",
      "metadata": {
        "id": "4a1e6245",
        "colab": {
          "base_uri": "https://localhost:8080/",
          "height": 139
        },
        "outputId": "b96f3fbd-71f1-43fe-cd36-1d8ff4d28a58"
      },
      "outputs": [
        {
          "output_type": "stream",
          "name": "stdout",
          "text": [
            "Shape of reduced training data: (424, 12)\n",
            "\n",
            "Selected features:\n"
          ]
        },
        {
          "output_type": "display_data",
          "data": {
            "text/plain": [
              "Index(['area', 'habitaciones', 'banos', 'pisos', 'calle_principal',\n",
              "       'cuarto_invitados', 'sotano', 'calefaccion_agua', 'aire_acondicionado',\n",
              "       'estacionamiento', 'area_preferida', 'estado_amueblado'],\n",
              "      dtype='object')"
            ]
          },
          "metadata": {}
        }
      ],
      "source": [
        "# Define the threshold\n",
        "selector = VarianceThreshold(threshold=0.01)\n",
        "\n",
        "# Fit on the normalized training data\n",
        "selector.fit(X_train_scaled)\n",
        "\n",
        "# Get the indices of the selected features\n",
        "selected_features_mask = selector.get_support()\n",
        "\n",
        "# Get the names of the selected columns from the original DataFrame's columns\n",
        "selected_columns = X_train.columns[selected_features_mask]\n",
        "\n",
        "# Transform the scaled training data to keep only the selected features\n",
        "X_train_reduced = selector.transform(X_train_scaled)\n",
        "\n",
        "# Convert the reduced training data back to a DataFrame\n",
        "X_train_reduced = pd.DataFrame(X_train_reduced, columns=selected_columns, index=X_train.index)\n",
        "\n",
        "# Display the shape of the reduced training data\n",
        "print(\"Shape of reduced training data:\", X_train_reduced.shape)\n",
        "\n",
        "# Display the selected columns\n",
        "print(\"\\nSelected features:\")\n",
        "display(selected_columns)"
      ]
    },
    {
      "cell_type": "markdown",
      "id": "6a9bc3c4",
      "metadata": {
        "id": "6a9bc3c4"
      },
      "source": [
        "**Justificación técnica:** Describe aquí tu interpretación del resultado."
      ]
    },
    {
      "cell_type": "markdown",
      "source": [
        "# <font color=\"green\"> Conclusión General --Obligatorio--</font>\n",
        "\n",
        "*Agrega una sección al final de tu script donde resumas los principales pasos realizados, las decisiones clave tomadas y el estado final del dataset preprocesado. Esto ayudará a otros a entender tu trabajo y a reutilizar tu código más fácilmente.\n",
        "Podrías mencionar posibles pasos futuros, como la selección de características o la construcción de modelos.*"
      ],
      "metadata": {
        "id": "DNtqxJGHa27L"
      },
      "id": "DNtqxJGHa27L"
    },
    {
      "cell_type": "markdown",
      "source": [],
      "metadata": {
        "id": "diX6ldOJHulJ"
      },
      "id": "diX6ldOJHulJ"
    },
    {
      "cell_type": "markdown",
      "metadata": {
        "id": "13aed217"
      },
      "source": [
        "# Conclusión General\n",
        "\n",
        "En este taller, hemos realizado una serie de pasos esenciales para preprocesar y preparar el dataset de vivienda para el modelado. Hemos abordado la carga y exploración inicial de los datos, incluyendo la inspección de las primeras filas, dimensiones y tipos de datos. Se han traducido los nombres de las columnas a español para mayor claridad.\n",
        "\n",
        "Identificamos y manejamos los valores nulos mediante la imputación con valores fijos para algunas columnas numéricas y la moda para las variables categóricas, verificando que no quedaron valores faltantes.\n",
        "\n",
        "Realizamos un análisis exploratorio de datos (EDA) centrándonos en la variable objetivo 'precio', visualizando su distribución con histogramas y KDE, y calculando medidas estadísticas como la media, mediana, moda, asimetría y curtosis. También visualizamos la distribución de otras variables numéricas y categóricas mediante boxplots y gráficos de barras.\n",
        "\n",
        "Aplicamos el método IQR para identificar y eliminar outliers en la variable 'precio', lo que resultó en una distribución más acotada y menos sesgada, como se observó en los gráficos posteriores.\n",
        "\n",
        "Procedimos a la manipulación de datos, incluyendo la numerización de variables binarias y la columna 'estado_amueblado' utilizando OrdinalEncoder, guardando los transformadores para su uso futuro. Se reemplazaron los espacios en los nombres de las columnas por guiones bajos para facilitar el acceso a las columnas.\n",
        "\n",
        "Finalmente, se dividió el dataset en conjuntos de entrenamiento y prueba utilizando una división estratificada para mantener la proporción de la variable objetivo. Se escalaron las características utilizando StandardScaler y se guardó el escalador entrenado. Se verificó la varianza de los datos escalados y se aplicó VarianceThreshold para la reducción de características, aunque en este caso no se eliminaron columnas con el umbral definido.\n",
        "\n",
        "El dataset preprocesado (`X_train_reduced`, `X_test_scaled`, `y_train`, `y_test`) está ahora listo para la etapa de construcción de modelos.\n",
        "\n",
        "**Próximos pasos potenciales:**\n",
        "\n",
        "1.  **Selección de características más avanzada:** Explorar otros métodos de selección de características como la selección basada en modelos o métodos univariados para identificar las variables más relevantes para la predicción del precio.\n",
        "2.  **Ingeniería de características (Feature engineering):** Crear nuevas características a partir de las existentes que puedan capturar mejor la información y mejorar el rendimiento del modelo.\n",
        "3.  **Modelado:** Entrenar diferentes modelos de regresión (por ejemplo, Regresión Lineal, Árboles de Decisión, Random Forest, Gradient Boosting) en el conjunto de entrenamiento preprocesado.\n",
        "4.  **Evaluación del modelo:** Evaluar el rendimiento de los modelos entrenados utilizando métricas apropiadas para problemas de regresión (por ejemplo, MAE, MSE, R²).\n",
        "5.  **Ajuste de hiperparámetros:** Optimizar los hiperparámetros de los modelos seleccionados para mejorar su rendimiento.\n",
        "6.  **Interpretación del modelo:** Analizar los modelos para entender qué características son más importantes para predecir el precio de la vivienda."
      ],
      "id": "13aed217"
    },
    {
      "cell_type": "markdown",
      "id": "681328e6",
      "metadata": {
        "id": "681328e6"
      },
      "source": [
        "### Tarea: <<<------------------THE END------------------------->>>"
      ]
    }
  ],
  "metadata": {
    "colab": {
      "provenance": []
    },
    "language_info": {
      "name": "python"
    },
    "kernelspec": {
      "name": "python3",
      "display_name": "Python 3"
    }
  },
  "nbformat": 4,
  "nbformat_minor": 5
}